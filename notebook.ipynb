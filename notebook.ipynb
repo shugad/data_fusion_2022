{
  "cells": [
    {
      "cell_type": "markdown",
      "metadata": {
        "id": "view-in-github",
        "colab_type": "text"
      },
      "source": [
        "<a href=\"https://colab.research.google.com/github/shugad/my_DS_project/blob/master/notebook.ipynb\" target=\"_parent\"><img src=\"https://colab.research.google.com/assets/colab-badge.svg\" alt=\"Open In Colab\"/></a>"
      ]
    },
    {
      "cell_type": "markdown",
      "id": "f55e5296",
      "metadata": {
        "papermill": {
          "duration": 0.053071,
          "end_time": "2022-04-14T06:32:10.353596",
          "exception": false,
          "start_time": "2022-04-14T06:32:10.300525",
          "status": "completed"
        },
        "tags": [],
        "id": "f55e5296"
      },
      "source": [
        "# Установка библиотек"
      ]
    },
    {
      "cell_type": "code",
      "execution_count": 47,
      "id": "3aa433e7",
      "metadata": {
        "_kg_hide-output": true,
        "execution": {
          "iopub.execute_input": "2022-04-14T06:32:10.447559Z",
          "iopub.status.busy": "2022-04-14T06:32:10.443237Z",
          "iopub.status.idle": "2022-04-14T06:33:50.756337Z",
          "shell.execute_reply": "2022-04-14T06:33:50.755563Z",
          "shell.execute_reply.started": "2022-04-14T06:22:24.849651Z"
        },
        "papermill": {
          "duration": 100.35803,
          "end_time": "2022-04-14T06:33:50.756539",
          "exception": false,
          "start_time": "2022-04-14T06:32:10.398509",
          "status": "completed"
        },
        "tags": [],
        "colab": {
          "base_uri": "https://localhost:8080/"
        },
        "id": "3aa433e7",
        "outputId": "7224879c-c1e6-4210-82ed-cf9e2ed51384"
      },
      "outputs": [
        {
          "output_type": "stream",
          "name": "stdout",
          "text": [
            "Requirement already satisfied: fastparquet in /usr/local/lib/python3.7/dist-packages (0.8.1)\n",
            "Requirement already satisfied: fsspec in /usr/local/lib/python3.7/dist-packages (from fastparquet) (2022.3.0)\n",
            "Requirement already satisfied: cramjam>=2.3.0 in /usr/local/lib/python3.7/dist-packages (from fastparquet) (2.5.0)\n",
            "Requirement already satisfied: numpy>=1.18 in /usr/local/lib/python3.7/dist-packages (from fastparquet) (1.21.5)\n",
            "Requirement already satisfied: pandas>=1.1.0 in /usr/local/lib/python3.7/dist-packages (from fastparquet) (1.3.5)\n",
            "Requirement already satisfied: pytz>=2017.3 in /usr/local/lib/python3.7/dist-packages (from pandas>=1.1.0->fastparquet) (2018.9)\n",
            "Requirement already satisfied: python-dateutil>=2.7.3 in /usr/local/lib/python3.7/dist-packages (from pandas>=1.1.0->fastparquet) (2.8.2)\n",
            "Requirement already satisfied: six>=1.5 in /usr/local/lib/python3.7/dist-packages (from python-dateutil>=2.7.3->pandas>=1.1.0->fastparquet) (1.15.0)\n",
            "Requirement already satisfied: lightautoml in /usr/local/lib/python3.7/dist-packages (0.3.3)\n",
            "Requirement already satisfied: poetry-core<2.0.0,>=1.0.0 in /usr/local/lib/python3.7/dist-packages (from lightautoml) (1.0.8)\n",
            "Requirement already satisfied: joblib in /usr/local/lib/python3.7/dist-packages (from lightautoml) (1.1.0)\n",
            "Requirement already satisfied: torch<1.9 in /usr/local/lib/python3.7/dist-packages (from lightautoml) (1.8.1)\n",
            "Requirement already satisfied: seaborn in /usr/local/lib/python3.7/dist-packages (from lightautoml) (0.11.2)\n",
            "Requirement already satisfied: pandas>=1 in /usr/local/lib/python3.7/dist-packages (from lightautoml) (1.3.5)\n",
            "Requirement already satisfied: numpy>=1.20.0 in /usr/local/lib/python3.7/dist-packages (from lightautoml) (1.21.5)\n",
            "Requirement already satisfied: importlib-metadata<2.0,>=1.0 in /usr/local/lib/python3.7/dist-packages (from lightautoml) (1.7.0)\n",
            "Requirement already satisfied: dataclasses==0.6 in /usr/local/lib/python3.7/dist-packages (from lightautoml) (0.6)\n",
            "Requirement already satisfied: pyyaml in /usr/local/lib/python3.7/dist-packages (from lightautoml) (3.13)\n",
            "Requirement already satisfied: networkx in /usr/local/lib/python3.7/dist-packages (from lightautoml) (2.6.3)\n",
            "Requirement already satisfied: tqdm in /usr/local/lib/python3.7/dist-packages (from lightautoml) (4.64.0)\n",
            "Requirement already satisfied: torchvision in /usr/local/lib/python3.7/dist-packages (from lightautoml) (0.9.1)\n",
            "Requirement already satisfied: autowoe>=1.2 in /usr/local/lib/python3.7/dist-packages (from lightautoml) (1.3.1)\n",
            "Requirement already satisfied: json2html in /usr/local/lib/python3.7/dist-packages (from lightautoml) (1.3.0)\n",
            "Requirement already satisfied: scipy in /usr/local/lib/python3.7/dist-packages (from lightautoml) (1.4.1)\n",
            "Requirement already satisfied: optuna in /usr/local/lib/python3.7/dist-packages (from lightautoml) (2.10.0)\n",
            "Requirement already satisfied: lightgbm<3.0,>=2.3 in /usr/local/lib/python3.7/dist-packages (from lightautoml) (2.3.1)\n",
            "Requirement already satisfied: cmaes in /usr/local/lib/python3.7/dist-packages (from lightautoml) (0.8.2)\n",
            "Requirement already satisfied: catboost in /usr/local/lib/python3.7/dist-packages (from lightautoml) (1.0.5)\n",
            "Requirement already satisfied: holidays in /usr/local/lib/python3.7/dist-packages (from lightautoml) (0.10.5.2)\n",
            "Requirement already satisfied: scikit-learn>=0.22 in /usr/local/lib/python3.7/dist-packages (from lightautoml) (1.0.2)\n",
            "Requirement already satisfied: jinja2 in /usr/local/lib/python3.7/dist-packages (from lightautoml) (2.11.3)\n",
            "Requirement already satisfied: StrEnum<0.5.0,>=0.4.7 in /usr/local/lib/python3.7/dist-packages (from autowoe>=1.2->lightautoml) (0.4.7)\n",
            "Requirement already satisfied: sphinx-rtd-theme in /usr/local/lib/python3.7/dist-packages (from autowoe>=1.2->lightautoml) (1.0.0)\n",
            "Requirement already satisfied: pytz in /usr/local/lib/python3.7/dist-packages (from autowoe>=1.2->lightautoml) (2018.9)\n",
            "Requirement already satisfied: pytest in /usr/local/lib/python3.7/dist-packages (from autowoe>=1.2->lightautoml) (3.6.4)\n",
            "Requirement already satisfied: matplotlib in /usr/local/lib/python3.7/dist-packages (from autowoe>=1.2->lightautoml) (3.2.2)\n",
            "Requirement already satisfied: sphinx in /usr/local/lib/python3.7/dist-packages (from autowoe>=1.2->lightautoml) (1.8.6)\n",
            "Requirement already satisfied: zipp>=0.5 in /usr/local/lib/python3.7/dist-packages (from importlib-metadata<2.0,>=1.0->lightautoml) (3.8.0)\n",
            "Requirement already satisfied: python-dateutil>=2.7.3 in /usr/local/lib/python3.7/dist-packages (from pandas>=1->lightautoml) (2.8.2)\n",
            "Requirement already satisfied: six>=1.5 in /usr/local/lib/python3.7/dist-packages (from python-dateutil>=2.7.3->pandas>=1->lightautoml) (1.15.0)\n",
            "Requirement already satisfied: threadpoolctl>=2.0.0 in /usr/local/lib/python3.7/dist-packages (from scikit-learn>=0.22->lightautoml) (3.1.0)\n",
            "Requirement already satisfied: typing-extensions in /usr/local/lib/python3.7/dist-packages (from torch<1.9->lightautoml) (4.1.1)\n",
            "Requirement already satisfied: plotly in /usr/local/lib/python3.7/dist-packages (from catboost->lightautoml) (5.5.0)\n",
            "Requirement already satisfied: graphviz in /usr/local/lib/python3.7/dist-packages (from catboost->lightautoml) (0.10.1)\n",
            "Requirement already satisfied: convertdate>=2.3.0 in /usr/local/lib/python3.7/dist-packages (from holidays->lightautoml) (2.4.0)\n",
            "Requirement already satisfied: korean-lunar-calendar in /usr/local/lib/python3.7/dist-packages (from holidays->lightautoml) (0.2.1)\n",
            "Requirement already satisfied: hijri-converter in /usr/local/lib/python3.7/dist-packages (from holidays->lightautoml) (2.2.3)\n",
            "Requirement already satisfied: pymeeus<=1,>=0.3.13 in /usr/local/lib/python3.7/dist-packages (from convertdate>=2.3.0->holidays->lightautoml) (0.5.11)\n",
            "Requirement already satisfied: MarkupSafe>=0.23 in /usr/local/lib/python3.7/dist-packages (from jinja2->lightautoml) (2.0.1)\n",
            "Requirement already satisfied: cycler>=0.10 in /usr/local/lib/python3.7/dist-packages (from matplotlib->autowoe>=1.2->lightautoml) (0.11.0)\n",
            "Requirement already satisfied: pyparsing!=2.0.4,!=2.1.2,!=2.1.6,>=2.0.1 in /usr/local/lib/python3.7/dist-packages (from matplotlib->autowoe>=1.2->lightautoml) (3.0.8)\n",
            "Requirement already satisfied: kiwisolver>=1.0.1 in /usr/local/lib/python3.7/dist-packages (from matplotlib->autowoe>=1.2->lightautoml) (1.4.2)\n",
            "Requirement already satisfied: alembic in /usr/local/lib/python3.7/dist-packages (from optuna->lightautoml) (1.7.7)\n",
            "Requirement already satisfied: sqlalchemy>=1.1.0 in /usr/local/lib/python3.7/dist-packages (from optuna->lightautoml) (1.4.35)\n",
            "Requirement already satisfied: colorlog in /usr/local/lib/python3.7/dist-packages (from optuna->lightautoml) (6.6.0)\n",
            "Requirement already satisfied: cliff in /usr/local/lib/python3.7/dist-packages (from optuna->lightautoml) (3.10.1)\n",
            "Requirement already satisfied: packaging>=20.0 in /usr/local/lib/python3.7/dist-packages (from optuna->lightautoml) (21.3)\n",
            "Requirement already satisfied: greenlet!=0.4.17 in /usr/local/lib/python3.7/dist-packages (from sqlalchemy>=1.1.0->optuna->lightautoml) (1.1.2)\n",
            "Requirement already satisfied: Mako in /usr/local/lib/python3.7/dist-packages (from alembic->optuna->lightautoml) (1.2.0)\n",
            "Requirement already satisfied: importlib-resources in /usr/local/lib/python3.7/dist-packages (from alembic->optuna->lightautoml) (5.6.0)\n",
            "Requirement already satisfied: cmd2>=1.0.0 in /usr/local/lib/python3.7/dist-packages (from cliff->optuna->lightautoml) (2.4.1)\n",
            "Requirement already satisfied: pbr!=2.1.0,>=2.0.0 in /usr/local/lib/python3.7/dist-packages (from cliff->optuna->lightautoml) (5.8.1)\n",
            "Requirement already satisfied: PrettyTable>=0.7.2 in /usr/local/lib/python3.7/dist-packages (from cliff->optuna->lightautoml) (3.2.0)\n",
            "Requirement already satisfied: stevedore>=2.0.1 in /usr/local/lib/python3.7/dist-packages (from cliff->optuna->lightautoml) (3.5.0)\n",
            "Requirement already satisfied: autopage>=0.4.0 in /usr/local/lib/python3.7/dist-packages (from cliff->optuna->lightautoml) (0.5.0)\n",
            "Requirement already satisfied: attrs>=16.3.0 in /usr/local/lib/python3.7/dist-packages (from cmd2>=1.0.0->cliff->optuna->lightautoml) (21.4.0)\n",
            "Requirement already satisfied: pyperclip>=1.6 in /usr/local/lib/python3.7/dist-packages (from cmd2>=1.0.0->cliff->optuna->lightautoml) (1.8.2)\n",
            "Requirement already satisfied: wcwidth>=0.1.7 in /usr/local/lib/python3.7/dist-packages (from cmd2>=1.0.0->cliff->optuna->lightautoml) (0.2.5)\n",
            "Requirement already satisfied: tenacity>=6.2.0 in /usr/local/lib/python3.7/dist-packages (from plotly->catboost->lightautoml) (8.0.1)\n",
            "Requirement already satisfied: more-itertools>=4.0.0 in /usr/local/lib/python3.7/dist-packages (from pytest->autowoe>=1.2->lightautoml) (8.12.0)\n",
            "Requirement already satisfied: atomicwrites>=1.0 in /usr/local/lib/python3.7/dist-packages (from pytest->autowoe>=1.2->lightautoml) (1.4.0)\n",
            "Requirement already satisfied: py>=1.5.0 in /usr/local/lib/python3.7/dist-packages (from pytest->autowoe>=1.2->lightautoml) (1.11.0)\n",
            "Requirement already satisfied: setuptools in /usr/local/lib/python3.7/dist-packages (from pytest->autowoe>=1.2->lightautoml) (57.4.0)\n",
            "Requirement already satisfied: pluggy<0.8,>=0.5 in /usr/local/lib/python3.7/dist-packages (from pytest->autowoe>=1.2->lightautoml) (0.7.1)\n",
            "Requirement already satisfied: Pygments>=2.0 in /usr/local/lib/python3.7/dist-packages (from sphinx->autowoe>=1.2->lightautoml) (2.6.1)\n",
            "Requirement already satisfied: imagesize in /usr/local/lib/python3.7/dist-packages (from sphinx->autowoe>=1.2->lightautoml) (1.3.0)\n",
            "Requirement already satisfied: requests>=2.0.0 in /usr/local/lib/python3.7/dist-packages (from sphinx->autowoe>=1.2->lightautoml) (2.23.0)\n",
            "Requirement already satisfied: snowballstemmer>=1.1 in /usr/local/lib/python3.7/dist-packages (from sphinx->autowoe>=1.2->lightautoml) (2.2.0)\n",
            "Requirement already satisfied: docutils<0.18,>=0.11 in /usr/local/lib/python3.7/dist-packages (from sphinx->autowoe>=1.2->lightautoml) (0.17.1)\n",
            "Requirement already satisfied: sphinxcontrib-websupport in /usr/local/lib/python3.7/dist-packages (from sphinx->autowoe>=1.2->lightautoml) (1.2.4)\n",
            "Requirement already satisfied: babel!=2.0,>=1.3 in /usr/local/lib/python3.7/dist-packages (from sphinx->autowoe>=1.2->lightautoml) (2.9.1)\n",
            "Requirement already satisfied: alabaster<0.8,>=0.7 in /usr/local/lib/python3.7/dist-packages (from sphinx->autowoe>=1.2->lightautoml) (0.7.12)\n",
            "Requirement already satisfied: chardet<4,>=3.0.2 in /usr/local/lib/python3.7/dist-packages (from requests>=2.0.0->sphinx->autowoe>=1.2->lightautoml) (3.0.4)\n",
            "Requirement already satisfied: urllib3!=1.25.0,!=1.25.1,<1.26,>=1.21.1 in /usr/local/lib/python3.7/dist-packages (from requests>=2.0.0->sphinx->autowoe>=1.2->lightautoml) (1.24.3)\n",
            "Requirement already satisfied: idna<3,>=2.5 in /usr/local/lib/python3.7/dist-packages (from requests>=2.0.0->sphinx->autowoe>=1.2->lightautoml) (2.10)\n",
            "Requirement already satisfied: certifi>=2017.4.17 in /usr/local/lib/python3.7/dist-packages (from requests>=2.0.0->sphinx->autowoe>=1.2->lightautoml) (2021.10.8)\n",
            "Requirement already satisfied: sphinxcontrib-serializinghtml in /usr/local/lib/python3.7/dist-packages (from sphinxcontrib-websupport->sphinx->autowoe>=1.2->lightautoml) (1.1.5)\n",
            "Requirement already satisfied: pillow>=4.1.1 in /usr/local/lib/python3.7/dist-packages (from torchvision->lightautoml) (7.1.2)\n",
            "Requirement already satisfied: shap in /usr/local/lib/python3.7/dist-packages (0.40.0)\n",
            "Requirement already satisfied: tqdm>4.25.0 in /usr/local/lib/python3.7/dist-packages (from shap) (4.64.0)\n",
            "Requirement already satisfied: pandas in /usr/local/lib/python3.7/dist-packages (from shap) (1.3.5)\n",
            "Requirement already satisfied: scipy in /usr/local/lib/python3.7/dist-packages (from shap) (1.4.1)\n",
            "Requirement already satisfied: slicer==0.0.7 in /usr/local/lib/python3.7/dist-packages (from shap) (0.0.7)\n",
            "Requirement already satisfied: numba in /usr/local/lib/python3.7/dist-packages (from shap) (0.51.2)\n",
            "Requirement already satisfied: cloudpickle in /usr/local/lib/python3.7/dist-packages (from shap) (1.3.0)\n",
            "Requirement already satisfied: scikit-learn in /usr/local/lib/python3.7/dist-packages (from shap) (1.0.2)\n",
            "Requirement already satisfied: packaging>20.9 in /usr/local/lib/python3.7/dist-packages (from shap) (21.3)\n",
            "Requirement already satisfied: numpy in /usr/local/lib/python3.7/dist-packages (from shap) (1.21.5)\n",
            "Requirement already satisfied: pyparsing!=3.0.5,>=2.0.2 in /usr/local/lib/python3.7/dist-packages (from packaging>20.9->shap) (3.0.8)\n",
            "Requirement already satisfied: llvmlite<0.35,>=0.34.0.dev0 in /usr/local/lib/python3.7/dist-packages (from numba->shap) (0.34.0)\n",
            "Requirement already satisfied: setuptools in /usr/local/lib/python3.7/dist-packages (from numba->shap) (57.4.0)\n",
            "Requirement already satisfied: pytz>=2017.3 in /usr/local/lib/python3.7/dist-packages (from pandas->shap) (2018.9)\n",
            "Requirement already satisfied: python-dateutil>=2.7.3 in /usr/local/lib/python3.7/dist-packages (from pandas->shap) (2.8.2)\n",
            "Requirement already satisfied: six>=1.5 in /usr/local/lib/python3.7/dist-packages (from python-dateutil>=2.7.3->pandas->shap) (1.15.0)\n",
            "Requirement already satisfied: joblib>=0.11 in /usr/local/lib/python3.7/dist-packages (from scikit-learn->shap) (1.1.0)\n",
            "Requirement already satisfied: threadpoolctl>=2.0.0 in /usr/local/lib/python3.7/dist-packages (from scikit-learn->shap) (3.1.0)\n"
          ]
        }
      ],
      "source": [
        "!pip install fastparquet\n",
        "!pip install -U lightautoml\n",
        "!pip install shap"
      ]
    },
    {
      "cell_type": "markdown",
      "id": "dfe3241a",
      "metadata": {
        "papermill": {
          "duration": 0.514047,
          "end_time": "2022-04-14T06:33:51.760161",
          "exception": false,
          "start_time": "2022-04-14T06:33:51.246114",
          "status": "completed"
        },
        "tags": [],
        "id": "dfe3241a"
      },
      "source": [
        "# Импорт библиотек"
      ]
    },
    {
      "cell_type": "code",
      "execution_count": 48,
      "id": "fb555406",
      "metadata": {
        "_cell_guid": "b1076dfc-b9ad-4769-8c92-a6c4dae69d19",
        "_uuid": "8f2839f25d086af736a60e9eeb907d3b93b6e0e5",
        "execution": {
          "iopub.execute_input": "2022-04-14T06:33:52.711333Z",
          "iopub.status.busy": "2022-04-14T06:33:52.710352Z",
          "iopub.status.idle": "2022-04-14T06:34:00.801196Z",
          "shell.execute_reply": "2022-04-14T06:34:00.801994Z",
          "shell.execute_reply.started": "2022-04-13T13:54:21.709594Z"
        },
        "papermill": {
          "duration": 8.57137,
          "end_time": "2022-04-14T06:34:00.802173",
          "exception": false,
          "start_time": "2022-04-14T06:33:52.230803",
          "status": "completed"
        },
        "tags": [],
        "id": "fb555406"
      },
      "outputs": [],
      "source": [
        "# standart libraries\n",
        "import os\n",
        "import sys\n",
        "import pickle\n",
        "import tqdm\n",
        "\n",
        "# visualizations\n",
        "import matplotlib.pyplot as plt\n",
        "\n",
        "# DS libraries\n",
        "import pandas as pd\n",
        "import numpy as np\n",
        "\n",
        "# ML libraries\n",
        "from sklearn.model_selection import train_test_split, StratifiedKFold, KFold\n",
        "from sklearn.inspection import permutation_importance\n",
        "from sklearn.metrics import roc_auc_score\n",
        "import lightgbm as lgb\n",
        "import torch\n",
        "import shap\n",
        "\n",
        "# LightAutoML presets, task and report generation\n",
        "from lightautoml.automl.presets.tabular_presets import TabularUtilizedAutoML\n",
        "from lightautoml.tasks import Task\n",
        "\n",
        "from numpy.random import seed\n",
        "seed(42)\n",
        "import tensorflow\n",
        "tensorflow.random.set_seed(42)\n",
        "\n",
        "import warnings\n",
        "warnings.simplefilter(action='ignore', category=FutureWarning)"
      ]
    },
    {
      "cell_type": "markdown",
      "id": "45359e7f",
      "metadata": {
        "papermill": {
          "duration": 0.494257,
          "end_time": "2022-04-14T06:34:01.812051",
          "exception": false,
          "start_time": "2022-04-14T06:34:01.317794",
          "status": "completed"
        },
        "tags": [],
        "id": "45359e7f"
      },
      "source": [
        "# Вспомогательные функции"
      ]
    },
    {
      "cell_type": "code",
      "execution_count": 49,
      "id": "66b7505e",
      "metadata": {
        "execution": {
          "iopub.execute_input": "2022-04-14T06:34:02.777534Z",
          "iopub.status.busy": "2022-04-14T06:34:02.776564Z",
          "iopub.status.idle": "2022-04-14T06:34:02.788304Z",
          "shell.execute_reply": "2022-04-14T06:34:02.788840Z",
          "shell.execute_reply.started": "2022-04-13T13:54:35.062011Z"
        },
        "papermill": {
          "duration": 0.504289,
          "end_time": "2022-04-14T06:34:02.789002",
          "exception": false,
          "start_time": "2022-04-14T06:34:02.284713",
          "status": "completed"
        },
        "tags": [],
        "id": "66b7505e"
      },
      "outputs": [],
      "source": [
        "# Memory saving function credit to https://www.kaggle.com/gemartin/load-data-reduce-memory-usage\n",
        "def reduce_mem_usage(df):\n",
        "    \"\"\" iterate through all the columns of a dataframe and modify the data type\n",
        "        to reduce memory usage.\n",
        "    \"\"\"\n",
        "    start_mem = df.memory_usage().sum() / 1024**2\n",
        "    print('Memory usage of dataframe is {:.2f} MB'.format(start_mem))\n",
        "\n",
        "    for col in df.columns:\n",
        "        col_type = df[col].dtype.name\n",
        "\n",
        "        if col_type not in ['object', 'category', 'datetime64[ns, UTC]']:\n",
        "            c_min = df[col].min()\n",
        "            c_max = df[col].max()\n",
        "            if str(col_type)[:3] == 'int':\n",
        "                if c_min > np.iinfo(np.int8).min and c_max < np.iinfo(np.int8).max:\n",
        "                    df[col] = df[col].astype(np.int16)\n",
        "                elif c_min > np.iinfo(np.int16).min and c_max < np.iinfo(np.int16).max:\n",
        "                    df[col] = df[col].astype(np.int16)\n",
        "                elif c_min > np.iinfo(np.int32).min and c_max < np.iinfo(np.int32).max:\n",
        "                    df[col] = df[col].astype(np.int32)\n",
        "                elif c_min > np.iinfo(np.int64).min and c_max < np.iinfo(np.int64).max:\n",
        "                    df[col] = df[col].astype(np.int64)  \n",
        "            else:\n",
        "                if c_min > np.finfo(np.float16).min and c_max < np.finfo(np.float16).max:\n",
        "                    df[col] = df[col].astype(np.float16)\n",
        "                elif c_min > np.finfo(np.float32).min and c_max < np.finfo(np.float32).max:\n",
        "                    df[col] = df[col].astype(np.float32)\n",
        "                else:\n",
        "                    df[col] = df[col].astype(np.float64)\n",
        "\n",
        "    end_mem = df.memory_usage().sum() / 1024**2\n",
        "    print('Memory usage after optimization is: {:.2f} MB'.format(end_mem))\n",
        "    print('Decreased by {:.1f}%'.format(100 * (start_mem - end_mem) / start_mem))\n",
        "\n",
        "    return df"
      ]
    },
    {
      "cell_type": "markdown",
      "source": [
        "# 1. Постановка задачи"
      ],
      "metadata": {
        "id": "QeC8CfZMy1JT"
      },
      "id": "QeC8CfZMy1JT"
    },
    {
      "cell_type": "markdown",
      "source": [
        "Требуется: \n",
        "1. Провести разведочный анализ данных на индустриальных транзакционных данных.\n",
        "2. Создать алгоритм, способный предсказывать наличие высшего образования у клиента. \n",
        "\n",
        "Данные для задачи предоставлены ВТБ для образовательной задачи (\"Education\") в рамках Data Fusion Contest 2022."
      ],
      "metadata": {
        "id": "xwGXyU7Ny7qL"
      },
      "id": "xwGXyU7Ny7qL"
    },
    {
      "cell_type": "markdown",
      "id": "988477e7",
      "metadata": {
        "papermill": {
          "duration": 0.466424,
          "end_time": "2022-04-14T06:34:03.722111",
          "exception": false,
          "start_time": "2022-04-14T06:34:03.255687",
          "status": "completed"
        },
        "tags": [],
        "id": "988477e7"
      },
      "source": [
        "## Знакомство с данными"
      ]
    },
    {
      "cell_type": "code",
      "source": [
        "# импорт данных с Google Drive\n",
        "!gdown 1Zf-wXxlKsjFHAE9Tree5uxpVqKb3FbQf\n",
        "!gdown 1CxwXmQqS_R9kxmANIsPetu7qtaT1TpuZ\n",
        "!gdown 1E26eo1ioB7eGYg9BPDDVo13zkOC_2zaV"
      ],
      "metadata": {
        "colab": {
          "base_uri": "https://localhost:8080/"
        },
        "id": "AvCK3vi72WnS",
        "outputId": "0d909487-eeb2-439f-df31-e3cb34752bea"
      },
      "id": "AvCK3vi72WnS",
      "execution_count": 50,
      "outputs": [
        {
          "output_type": "stream",
          "name": "stdout",
          "text": [
            "Downloading...\n",
            "From: https://drive.google.com/uc?id=1Zf-wXxlKsjFHAE9Tree5uxpVqKb3FbQf\n",
            "To: /content/transactions.parquet\n",
            "100% 352M/352M [00:13<00:00, 25.9MB/s]\n",
            "Downloading...\n",
            "From: https://drive.google.com/uc?id=1CxwXmQqS_R9kxmANIsPetu7qtaT1TpuZ\n",
            "To: /content/train.csv\n",
            "100% 315k/315k [00:00<00:00, 3.02MB/s]\n",
            "Downloading...\n",
            "From: https://drive.google.com/uc?id=1E26eo1ioB7eGYg9BPDDVo13zkOC_2zaV\n",
            "To: /content/sample_submission.csv\n",
            "100% 148k/148k [00:00<00:00, 1.45MB/s]\n"
          ]
        }
      ]
    },
    {
      "cell_type": "markdown",
      "id": "c067d4ad",
      "metadata": {
        "papermill": {
          "duration": 0.468582,
          "end_time": "2022-04-14T06:34:04.657254",
          "exception": false,
          "start_time": "2022-04-14T06:34:04.188672",
          "status": "completed"
        },
        "tags": [],
        "id": "c067d4ad"
      },
      "source": [
        "**Транзакционные данные**\n",
        "\n",
        "Основной файл с данными для задачи. Представлен в формате \"одна строка - одна транзакция\". Транзакции были совершены по банковским картам клиентов.\n",
        "\n",
        "Столбцы таблицы:\n",
        "1. user_id - уникальный ID клиента.\n",
        "2. mcc_code - Merchant Category Code - код, классифицирующий вид торговой точки, где была совершена транзакция.\n",
        "3. currency_rk - код валюты.\n",
        "4. transaction_amt - сумма транзакции. Отрицательная сумма - списание с карты, положительная - зачисление на карту.\n",
        "5. transaction_dttm - точное время момента совершения транзакции в формате \"yy-MM-dd HH:mm:ss\""
      ]
    },
    {
      "cell_type": "code",
      "execution_count": 51,
      "id": "5564ca0d",
      "metadata": {
        "execution": {
          "iopub.execute_input": "2022-04-14T06:34:05.592285Z",
          "iopub.status.busy": "2022-04-14T06:34:05.591338Z",
          "iopub.status.idle": "2022-04-14T06:34:17.762551Z",
          "shell.execute_reply": "2022-04-14T06:34:17.763201Z",
          "shell.execute_reply.started": "2022-04-13T13:54:37.460818Z"
        },
        "papermill": {
          "duration": 12.640448,
          "end_time": "2022-04-14T06:34:17.763419",
          "exception": false,
          "start_time": "2022-04-14T06:34:05.122971",
          "status": "completed"
        },
        "tags": [],
        "colab": {
          "base_uri": "https://localhost:8080/",
          "height": 261
        },
        "id": "5564ca0d",
        "outputId": "6669fe61-bfe2-4c97-f310-e6f66fb3ca5c"
      },
      "outputs": [
        {
          "output_type": "stream",
          "name": "stdout",
          "text": [
            "Memory usage of dataframe is 756.15 MB\n",
            "Memory usage after optimization is: 453.69 MB\n",
            "Decreased by 40.0%\n"
          ]
        },
        {
          "output_type": "execute_result",
          "data": {
            "text/plain": [
              "                            user_id  mcc_code  currency_rk  transaction_amt  \\\n",
              "0  000932580e404dafbecd5916d4640938      5411           48      -361.072296   \n",
              "1  000932580e404dafbecd5916d4640938      5499           48      -137.313980   \n",
              "2  000932580e404dafbecd5916d4640938      5499           48      -138.849808   \n",
              "3  000932580e404dafbecd5916d4640938      4829           48      -309.476532   \n",
              "4  000932580e404dafbecd5916d4640938      5411           48      -133.473694   \n",
              "\n",
              "     transaction_dttm  \n",
              "0 2020-08-03 08:05:23  \n",
              "1 2020-08-05 01:27:40  \n",
              "2 2020-08-05 03:28:11  \n",
              "3 2020-08-06 00:36:29  \n",
              "4 2020-08-09 00:30:13  "
            ],
            "text/html": [
              "\n",
              "  <div id=\"df-2a84c152-8b66-4e63-a572-e64c98df549e\">\n",
              "    <div class=\"colab-df-container\">\n",
              "      <div>\n",
              "<style scoped>\n",
              "    .dataframe tbody tr th:only-of-type {\n",
              "        vertical-align: middle;\n",
              "    }\n",
              "\n",
              "    .dataframe tbody tr th {\n",
              "        vertical-align: top;\n",
              "    }\n",
              "\n",
              "    .dataframe thead th {\n",
              "        text-align: right;\n",
              "    }\n",
              "</style>\n",
              "<table border=\"1\" class=\"dataframe\">\n",
              "  <thead>\n",
              "    <tr style=\"text-align: right;\">\n",
              "      <th></th>\n",
              "      <th>user_id</th>\n",
              "      <th>mcc_code</th>\n",
              "      <th>currency_rk</th>\n",
              "      <th>transaction_amt</th>\n",
              "      <th>transaction_dttm</th>\n",
              "    </tr>\n",
              "  </thead>\n",
              "  <tbody>\n",
              "    <tr>\n",
              "      <th>0</th>\n",
              "      <td>000932580e404dafbecd5916d4640938</td>\n",
              "      <td>5411</td>\n",
              "      <td>48</td>\n",
              "      <td>-361.072296</td>\n",
              "      <td>2020-08-03 08:05:23</td>\n",
              "    </tr>\n",
              "    <tr>\n",
              "      <th>1</th>\n",
              "      <td>000932580e404dafbecd5916d4640938</td>\n",
              "      <td>5499</td>\n",
              "      <td>48</td>\n",
              "      <td>-137.313980</td>\n",
              "      <td>2020-08-05 01:27:40</td>\n",
              "    </tr>\n",
              "    <tr>\n",
              "      <th>2</th>\n",
              "      <td>000932580e404dafbecd5916d4640938</td>\n",
              "      <td>5499</td>\n",
              "      <td>48</td>\n",
              "      <td>-138.849808</td>\n",
              "      <td>2020-08-05 03:28:11</td>\n",
              "    </tr>\n",
              "    <tr>\n",
              "      <th>3</th>\n",
              "      <td>000932580e404dafbecd5916d4640938</td>\n",
              "      <td>4829</td>\n",
              "      <td>48</td>\n",
              "      <td>-309.476532</td>\n",
              "      <td>2020-08-06 00:36:29</td>\n",
              "    </tr>\n",
              "    <tr>\n",
              "      <th>4</th>\n",
              "      <td>000932580e404dafbecd5916d4640938</td>\n",
              "      <td>5411</td>\n",
              "      <td>48</td>\n",
              "      <td>-133.473694</td>\n",
              "      <td>2020-08-09 00:30:13</td>\n",
              "    </tr>\n",
              "  </tbody>\n",
              "</table>\n",
              "</div>\n",
              "      <button class=\"colab-df-convert\" onclick=\"convertToInteractive('df-2a84c152-8b66-4e63-a572-e64c98df549e')\"\n",
              "              title=\"Convert this dataframe to an interactive table.\"\n",
              "              style=\"display:none;\">\n",
              "        \n",
              "  <svg xmlns=\"http://www.w3.org/2000/svg\" height=\"24px\"viewBox=\"0 0 24 24\"\n",
              "       width=\"24px\">\n",
              "    <path d=\"M0 0h24v24H0V0z\" fill=\"none\"/>\n",
              "    <path d=\"M18.56 5.44l.94 2.06.94-2.06 2.06-.94-2.06-.94-.94-2.06-.94 2.06-2.06.94zm-11 1L8.5 8.5l.94-2.06 2.06-.94-2.06-.94L8.5 2.5l-.94 2.06-2.06.94zm10 10l.94 2.06.94-2.06 2.06-.94-2.06-.94-.94-2.06-.94 2.06-2.06.94z\"/><path d=\"M17.41 7.96l-1.37-1.37c-.4-.4-.92-.59-1.43-.59-.52 0-1.04.2-1.43.59L10.3 9.45l-7.72 7.72c-.78.78-.78 2.05 0 2.83L4 21.41c.39.39.9.59 1.41.59.51 0 1.02-.2 1.41-.59l7.78-7.78 2.81-2.81c.8-.78.8-2.07 0-2.86zM5.41 20L4 18.59l7.72-7.72 1.47 1.35L5.41 20z\"/>\n",
              "  </svg>\n",
              "      </button>\n",
              "      \n",
              "  <style>\n",
              "    .colab-df-container {\n",
              "      display:flex;\n",
              "      flex-wrap:wrap;\n",
              "      gap: 12px;\n",
              "    }\n",
              "\n",
              "    .colab-df-convert {\n",
              "      background-color: #E8F0FE;\n",
              "      border: none;\n",
              "      border-radius: 50%;\n",
              "      cursor: pointer;\n",
              "      display: none;\n",
              "      fill: #1967D2;\n",
              "      height: 32px;\n",
              "      padding: 0 0 0 0;\n",
              "      width: 32px;\n",
              "    }\n",
              "\n",
              "    .colab-df-convert:hover {\n",
              "      background-color: #E2EBFA;\n",
              "      box-shadow: 0px 1px 2px rgba(60, 64, 67, 0.3), 0px 1px 3px 1px rgba(60, 64, 67, 0.15);\n",
              "      fill: #174EA6;\n",
              "    }\n",
              "\n",
              "    [theme=dark] .colab-df-convert {\n",
              "      background-color: #3B4455;\n",
              "      fill: #D2E3FC;\n",
              "    }\n",
              "\n",
              "    [theme=dark] .colab-df-convert:hover {\n",
              "      background-color: #434B5C;\n",
              "      box-shadow: 0px 1px 3px 1px rgba(0, 0, 0, 0.15);\n",
              "      filter: drop-shadow(0px 1px 2px rgba(0, 0, 0, 0.3));\n",
              "      fill: #FFFFFF;\n",
              "    }\n",
              "  </style>\n",
              "\n",
              "      <script>\n",
              "        const buttonEl =\n",
              "          document.querySelector('#df-2a84c152-8b66-4e63-a572-e64c98df549e button.colab-df-convert');\n",
              "        buttonEl.style.display =\n",
              "          google.colab.kernel.accessAllowed ? 'block' : 'none';\n",
              "\n",
              "        async function convertToInteractive(key) {\n",
              "          const element = document.querySelector('#df-2a84c152-8b66-4e63-a572-e64c98df549e');\n",
              "          const dataTable =\n",
              "            await google.colab.kernel.invokeFunction('convertToInteractive',\n",
              "                                                     [key], {});\n",
              "          if (!dataTable) return;\n",
              "\n",
              "          const docLinkHtml = 'Like what you see? Visit the ' +\n",
              "            '<a target=\"_blank\" href=https://colab.research.google.com/notebooks/data_table.ipynb>data table notebook</a>'\n",
              "            + ' to learn more about interactive tables.';\n",
              "          element.innerHTML = '';\n",
              "          dataTable['output_type'] = 'display_data';\n",
              "          await google.colab.output.renderOutput(dataTable, element);\n",
              "          const docLink = document.createElement('div');\n",
              "          docLink.innerHTML = docLinkHtml;\n",
              "          element.appendChild(docLink);\n",
              "        }\n",
              "      </script>\n",
              "    </div>\n",
              "  </div>\n",
              "  "
            ]
          },
          "metadata": {},
          "execution_count": 51
        }
      ],
      "source": [
        "transactions = pd.read_parquet(\"/content/transactions.parquet\", engine=\"fastparquet\")\n",
        "\n",
        "transactions = reduce_mem_usage(transactions) # уменьшаем размер датасета в памяти\n",
        "\n",
        "transactions['transaction_dttm'] =  pd.to_datetime(transactions['transaction_dttm']) # конвертируем transaction_dttm в формат datetime64\n",
        "transactions.head()"
      ]
    },
    {
      "cell_type": "code",
      "source": [
        "transactions.dtypes"
      ],
      "metadata": {
        "colab": {
          "base_uri": "https://localhost:8080/"
        },
        "id": "mI42EU607VkQ",
        "outputId": "7ed18c5a-fa1a-4c4f-e223-ee19ece7e82b"
      },
      "id": "mI42EU607VkQ",
      "execution_count": 52,
      "outputs": [
        {
          "output_type": "execute_result",
          "data": {
            "text/plain": [
              "user_id                     object\n",
              "mcc_code                     int16\n",
              "currency_rk                  int16\n",
              "transaction_amt            float32\n",
              "transaction_dttm    datetime64[ns]\n",
              "dtype: object"
            ]
          },
          "metadata": {},
          "execution_count": 52
        }
      ]
    },
    {
      "cell_type": "markdown",
      "source": [
        " **Тренировочный датасет**\n",
        "\n",
        "Файл для обучения модели. Представлен в виде \"одна строка - один клиент\".\n",
        "\n",
        "Столбцы таблицы:\n",
        "\n",
        "1. bank/user_id - уникальный ID клиента.\n",
        "2. higher_education - целевая переменная, факт наличия у клиента высшего образования (1) или его отсутствия (0)."
      ],
      "metadata": {
        "id": "N6suJ9yA7pVp"
      },
      "id": "N6suJ9yA7pVp"
    },
    {
      "cell_type": "code",
      "execution_count": 53,
      "id": "f0aafd77",
      "metadata": {
        "execution": {
          "iopub.execute_input": "2022-04-14T06:34:18.718104Z",
          "iopub.status.busy": "2022-04-14T06:34:18.717444Z",
          "iopub.status.idle": "2022-04-14T06:34:18.746711Z",
          "shell.execute_reply": "2022-04-14T06:34:18.746159Z"
        },
        "papermill": {
          "duration": 0.504843,
          "end_time": "2022-04-14T06:34:18.746874",
          "exception": false,
          "start_time": "2022-04-14T06:34:18.242031",
          "status": "completed"
        },
        "tags": [],
        "colab": {
          "base_uri": "https://localhost:8080/",
          "height": 206
        },
        "id": "f0aafd77",
        "outputId": "8a25e0bf-47de-4b84-f59f-cc753b5d9db5"
      },
      "outputs": [
        {
          "output_type": "execute_result",
          "data": {
            "text/plain": [
              "                            user_id  higher_education\n",
              "0  3755b59782464456bac1aec1a44e0db3               0.0\n",
              "1  604a550439d644718ea6e1693fbf03dc               0.0\n",
              "2  542d4776ebe5454fb8ab36f1c276fe0e               1.0\n",
              "3  ee37fecea44d475ca030cde7ff7d545d               0.0\n",
              "4  18617a1100f44a99b3a0772341fec3db               0.0"
            ],
            "text/html": [
              "\n",
              "  <div id=\"df-549181ce-4ca0-4681-81a0-03551492d107\">\n",
              "    <div class=\"colab-df-container\">\n",
              "      <div>\n",
              "<style scoped>\n",
              "    .dataframe tbody tr th:only-of-type {\n",
              "        vertical-align: middle;\n",
              "    }\n",
              "\n",
              "    .dataframe tbody tr th {\n",
              "        vertical-align: top;\n",
              "    }\n",
              "\n",
              "    .dataframe thead th {\n",
              "        text-align: right;\n",
              "    }\n",
              "</style>\n",
              "<table border=\"1\" class=\"dataframe\">\n",
              "  <thead>\n",
              "    <tr style=\"text-align: right;\">\n",
              "      <th></th>\n",
              "      <th>user_id</th>\n",
              "      <th>higher_education</th>\n",
              "    </tr>\n",
              "  </thead>\n",
              "  <tbody>\n",
              "    <tr>\n",
              "      <th>0</th>\n",
              "      <td>3755b59782464456bac1aec1a44e0db3</td>\n",
              "      <td>0.0</td>\n",
              "    </tr>\n",
              "    <tr>\n",
              "      <th>1</th>\n",
              "      <td>604a550439d644718ea6e1693fbf03dc</td>\n",
              "      <td>0.0</td>\n",
              "    </tr>\n",
              "    <tr>\n",
              "      <th>2</th>\n",
              "      <td>542d4776ebe5454fb8ab36f1c276fe0e</td>\n",
              "      <td>1.0</td>\n",
              "    </tr>\n",
              "    <tr>\n",
              "      <th>3</th>\n",
              "      <td>ee37fecea44d475ca030cde7ff7d545d</td>\n",
              "      <td>0.0</td>\n",
              "    </tr>\n",
              "    <tr>\n",
              "      <th>4</th>\n",
              "      <td>18617a1100f44a99b3a0772341fec3db</td>\n",
              "      <td>0.0</td>\n",
              "    </tr>\n",
              "  </tbody>\n",
              "</table>\n",
              "</div>\n",
              "      <button class=\"colab-df-convert\" onclick=\"convertToInteractive('df-549181ce-4ca0-4681-81a0-03551492d107')\"\n",
              "              title=\"Convert this dataframe to an interactive table.\"\n",
              "              style=\"display:none;\">\n",
              "        \n",
              "  <svg xmlns=\"http://www.w3.org/2000/svg\" height=\"24px\"viewBox=\"0 0 24 24\"\n",
              "       width=\"24px\">\n",
              "    <path d=\"M0 0h24v24H0V0z\" fill=\"none\"/>\n",
              "    <path d=\"M18.56 5.44l.94 2.06.94-2.06 2.06-.94-2.06-.94-.94-2.06-.94 2.06-2.06.94zm-11 1L8.5 8.5l.94-2.06 2.06-.94-2.06-.94L8.5 2.5l-.94 2.06-2.06.94zm10 10l.94 2.06.94-2.06 2.06-.94-2.06-.94-.94-2.06-.94 2.06-2.06.94z\"/><path d=\"M17.41 7.96l-1.37-1.37c-.4-.4-.92-.59-1.43-.59-.52 0-1.04.2-1.43.59L10.3 9.45l-7.72 7.72c-.78.78-.78 2.05 0 2.83L4 21.41c.39.39.9.59 1.41.59.51 0 1.02-.2 1.41-.59l7.78-7.78 2.81-2.81c.8-.78.8-2.07 0-2.86zM5.41 20L4 18.59l7.72-7.72 1.47 1.35L5.41 20z\"/>\n",
              "  </svg>\n",
              "      </button>\n",
              "      \n",
              "  <style>\n",
              "    .colab-df-container {\n",
              "      display:flex;\n",
              "      flex-wrap:wrap;\n",
              "      gap: 12px;\n",
              "    }\n",
              "\n",
              "    .colab-df-convert {\n",
              "      background-color: #E8F0FE;\n",
              "      border: none;\n",
              "      border-radius: 50%;\n",
              "      cursor: pointer;\n",
              "      display: none;\n",
              "      fill: #1967D2;\n",
              "      height: 32px;\n",
              "      padding: 0 0 0 0;\n",
              "      width: 32px;\n",
              "    }\n",
              "\n",
              "    .colab-df-convert:hover {\n",
              "      background-color: #E2EBFA;\n",
              "      box-shadow: 0px 1px 2px rgba(60, 64, 67, 0.3), 0px 1px 3px 1px rgba(60, 64, 67, 0.15);\n",
              "      fill: #174EA6;\n",
              "    }\n",
              "\n",
              "    [theme=dark] .colab-df-convert {\n",
              "      background-color: #3B4455;\n",
              "      fill: #D2E3FC;\n",
              "    }\n",
              "\n",
              "    [theme=dark] .colab-df-convert:hover {\n",
              "      background-color: #434B5C;\n",
              "      box-shadow: 0px 1px 3px 1px rgba(0, 0, 0, 0.15);\n",
              "      filter: drop-shadow(0px 1px 2px rgba(0, 0, 0, 0.3));\n",
              "      fill: #FFFFFF;\n",
              "    }\n",
              "  </style>\n",
              "\n",
              "      <script>\n",
              "        const buttonEl =\n",
              "          document.querySelector('#df-549181ce-4ca0-4681-81a0-03551492d107 button.colab-df-convert');\n",
              "        buttonEl.style.display =\n",
              "          google.colab.kernel.accessAllowed ? 'block' : 'none';\n",
              "\n",
              "        async function convertToInteractive(key) {\n",
              "          const element = document.querySelector('#df-549181ce-4ca0-4681-81a0-03551492d107');\n",
              "          const dataTable =\n",
              "            await google.colab.kernel.invokeFunction('convertToInteractive',\n",
              "                                                     [key], {});\n",
              "          if (!dataTable) return;\n",
              "\n",
              "          const docLinkHtml = 'Like what you see? Visit the ' +\n",
              "            '<a target=\"_blank\" href=https://colab.research.google.com/notebooks/data_table.ipynb>data table notebook</a>'\n",
              "            + ' to learn more about interactive tables.';\n",
              "          element.innerHTML = '';\n",
              "          dataTable['output_type'] = 'display_data';\n",
              "          await google.colab.output.renderOutput(dataTable, element);\n",
              "          const docLink = document.createElement('div');\n",
              "          docLink.innerHTML = docLinkHtml;\n",
              "          element.appendChild(docLink);\n",
              "        }\n",
              "      </script>\n",
              "    </div>\n",
              "  </div>\n",
              "  "
            ]
          },
          "metadata": {},
          "execution_count": 53
        }
      ],
      "source": [
        "train = pd.read_csv(\"/content/train.csv\")\n",
        "\n",
        "train = train.rename(columns={'bank': 'user_id'}) # переименовываем столбик для сходимости с файлом transactions\n",
        "train.head()"
      ]
    },
    {
      "cell_type": "code",
      "source": [
        "train.dtypes"
      ],
      "metadata": {
        "colab": {
          "base_uri": "https://localhost:8080/"
        },
        "id": "ERMOATyv8YXR",
        "outputId": "52a23036-62e5-4910-b132-9b2d69b74933"
      },
      "id": "ERMOATyv8YXR",
      "execution_count": 54,
      "outputs": [
        {
          "output_type": "execute_result",
          "data": {
            "text/plain": [
              "user_id              object\n",
              "higher_education    float64\n",
              "dtype: object"
            ]
          },
          "metadata": {},
          "execution_count": 54
        }
      ]
    },
    {
      "cell_type": "markdown",
      "source": [
        "**Тестовый датасет** \n",
        "\n",
        "Файл для тестирования модели с неизвестной целевой переменной (файл, необходимый для заполнения в рамках конкурса). Представлен в виде \"одна строка - один клиент\".\n",
        "\n",
        "Столбцы таблицы:\n",
        "\n",
        "1. bank/user_id - уникальный ID клиента.\n",
        "2. higher_education_proba - целевая переменная, вероятность наличия у клиента высшего образования (prob > 0.5) или его отсутствия (prob < 0.5)."
      ],
      "metadata": {
        "id": "Leyub3dK8Yzo"
      },
      "id": "Leyub3dK8Yzo"
    },
    {
      "cell_type": "code",
      "execution_count": 55,
      "id": "ae4b3735",
      "metadata": {
        "execution": {
          "iopub.execute_input": "2022-04-14T06:34:19.703980Z",
          "iopub.status.busy": "2022-04-14T06:34:19.703325Z",
          "iopub.status.idle": "2022-04-14T06:34:19.724153Z",
          "shell.execute_reply": "2022-04-14T06:34:19.724606Z",
          "shell.execute_reply.started": "2022-04-14T06:27:35.446134Z"
        },
        "papermill": {
          "duration": 0.499962,
          "end_time": "2022-04-14T06:34:19.724793",
          "exception": false,
          "start_time": "2022-04-14T06:34:19.224831",
          "status": "completed"
        },
        "tags": [],
        "colab": {
          "base_uri": "https://localhost:8080/",
          "height": 206
        },
        "id": "ae4b3735",
        "outputId": "f742a082-8b73-4914-afb9-88c1dc068a70"
      },
      "outputs": [
        {
          "output_type": "execute_result",
          "data": {
            "text/plain": [
              "                            user_id  higher_education_proba\n",
              "0  85ef628894e34ad6869778a9a5d15ba5                     0.5\n",
              "1  5ec7a78c6efd4d6291e371a6f30ed5c0                     0.5\n",
              "2  d0f5d1884ad74e3e9aae7e49f2e1b77b                     0.5\n",
              "3  c3c0f24dda94413ab98036f6d9018d3d                     0.5\n",
              "4  6a137054df2a42218a518479317e5b1e                     0.5"
            ],
            "text/html": [
              "\n",
              "  <div id=\"df-eaa43f5c-5e66-4125-8a14-d4ebc322658b\">\n",
              "    <div class=\"colab-df-container\">\n",
              "      <div>\n",
              "<style scoped>\n",
              "    .dataframe tbody tr th:only-of-type {\n",
              "        vertical-align: middle;\n",
              "    }\n",
              "\n",
              "    .dataframe tbody tr th {\n",
              "        vertical-align: top;\n",
              "    }\n",
              "\n",
              "    .dataframe thead th {\n",
              "        text-align: right;\n",
              "    }\n",
              "</style>\n",
              "<table border=\"1\" class=\"dataframe\">\n",
              "  <thead>\n",
              "    <tr style=\"text-align: right;\">\n",
              "      <th></th>\n",
              "      <th>user_id</th>\n",
              "      <th>higher_education_proba</th>\n",
              "    </tr>\n",
              "  </thead>\n",
              "  <tbody>\n",
              "    <tr>\n",
              "      <th>0</th>\n",
              "      <td>85ef628894e34ad6869778a9a5d15ba5</td>\n",
              "      <td>0.5</td>\n",
              "    </tr>\n",
              "    <tr>\n",
              "      <th>1</th>\n",
              "      <td>5ec7a78c6efd4d6291e371a6f30ed5c0</td>\n",
              "      <td>0.5</td>\n",
              "    </tr>\n",
              "    <tr>\n",
              "      <th>2</th>\n",
              "      <td>d0f5d1884ad74e3e9aae7e49f2e1b77b</td>\n",
              "      <td>0.5</td>\n",
              "    </tr>\n",
              "    <tr>\n",
              "      <th>3</th>\n",
              "      <td>c3c0f24dda94413ab98036f6d9018d3d</td>\n",
              "      <td>0.5</td>\n",
              "    </tr>\n",
              "    <tr>\n",
              "      <th>4</th>\n",
              "      <td>6a137054df2a42218a518479317e5b1e</td>\n",
              "      <td>0.5</td>\n",
              "    </tr>\n",
              "  </tbody>\n",
              "</table>\n",
              "</div>\n",
              "      <button class=\"colab-df-convert\" onclick=\"convertToInteractive('df-eaa43f5c-5e66-4125-8a14-d4ebc322658b')\"\n",
              "              title=\"Convert this dataframe to an interactive table.\"\n",
              "              style=\"display:none;\">\n",
              "        \n",
              "  <svg xmlns=\"http://www.w3.org/2000/svg\" height=\"24px\"viewBox=\"0 0 24 24\"\n",
              "       width=\"24px\">\n",
              "    <path d=\"M0 0h24v24H0V0z\" fill=\"none\"/>\n",
              "    <path d=\"M18.56 5.44l.94 2.06.94-2.06 2.06-.94-2.06-.94-.94-2.06-.94 2.06-2.06.94zm-11 1L8.5 8.5l.94-2.06 2.06-.94-2.06-.94L8.5 2.5l-.94 2.06-2.06.94zm10 10l.94 2.06.94-2.06 2.06-.94-2.06-.94-.94-2.06-.94 2.06-2.06.94z\"/><path d=\"M17.41 7.96l-1.37-1.37c-.4-.4-.92-.59-1.43-.59-.52 0-1.04.2-1.43.59L10.3 9.45l-7.72 7.72c-.78.78-.78 2.05 0 2.83L4 21.41c.39.39.9.59 1.41.59.51 0 1.02-.2 1.41-.59l7.78-7.78 2.81-2.81c.8-.78.8-2.07 0-2.86zM5.41 20L4 18.59l7.72-7.72 1.47 1.35L5.41 20z\"/>\n",
              "  </svg>\n",
              "      </button>\n",
              "      \n",
              "  <style>\n",
              "    .colab-df-container {\n",
              "      display:flex;\n",
              "      flex-wrap:wrap;\n",
              "      gap: 12px;\n",
              "    }\n",
              "\n",
              "    .colab-df-convert {\n",
              "      background-color: #E8F0FE;\n",
              "      border: none;\n",
              "      border-radius: 50%;\n",
              "      cursor: pointer;\n",
              "      display: none;\n",
              "      fill: #1967D2;\n",
              "      height: 32px;\n",
              "      padding: 0 0 0 0;\n",
              "      width: 32px;\n",
              "    }\n",
              "\n",
              "    .colab-df-convert:hover {\n",
              "      background-color: #E2EBFA;\n",
              "      box-shadow: 0px 1px 2px rgba(60, 64, 67, 0.3), 0px 1px 3px 1px rgba(60, 64, 67, 0.15);\n",
              "      fill: #174EA6;\n",
              "    }\n",
              "\n",
              "    [theme=dark] .colab-df-convert {\n",
              "      background-color: #3B4455;\n",
              "      fill: #D2E3FC;\n",
              "    }\n",
              "\n",
              "    [theme=dark] .colab-df-convert:hover {\n",
              "      background-color: #434B5C;\n",
              "      box-shadow: 0px 1px 3px 1px rgba(0, 0, 0, 0.15);\n",
              "      filter: drop-shadow(0px 1px 2px rgba(0, 0, 0, 0.3));\n",
              "      fill: #FFFFFF;\n",
              "    }\n",
              "  </style>\n",
              "\n",
              "      <script>\n",
              "        const buttonEl =\n",
              "          document.querySelector('#df-eaa43f5c-5e66-4125-8a14-d4ebc322658b button.colab-df-convert');\n",
              "        buttonEl.style.display =\n",
              "          google.colab.kernel.accessAllowed ? 'block' : 'none';\n",
              "\n",
              "        async function convertToInteractive(key) {\n",
              "          const element = document.querySelector('#df-eaa43f5c-5e66-4125-8a14-d4ebc322658b');\n",
              "          const dataTable =\n",
              "            await google.colab.kernel.invokeFunction('convertToInteractive',\n",
              "                                                     [key], {});\n",
              "          if (!dataTable) return;\n",
              "\n",
              "          const docLinkHtml = 'Like what you see? Visit the ' +\n",
              "            '<a target=\"_blank\" href=https://colab.research.google.com/notebooks/data_table.ipynb>data table notebook</a>'\n",
              "            + ' to learn more about interactive tables.';\n",
              "          element.innerHTML = '';\n",
              "          dataTable['output_type'] = 'display_data';\n",
              "          await google.colab.output.renderOutput(dataTable, element);\n",
              "          const docLink = document.createElement('div');\n",
              "          docLink.innerHTML = docLinkHtml;\n",
              "          element.appendChild(docLink);\n",
              "        }\n",
              "      </script>\n",
              "    </div>\n",
              "  </div>\n",
              "  "
            ]
          },
          "metadata": {},
          "execution_count": 55
        }
      ],
      "source": [
        "test = pd.read_csv(\"/content/sample_submission.csv\")\n",
        "\n",
        "test = test.rename(columns={'bank': 'user_id'}) # переименовываем столбик для сходимости с файлом transactions\n",
        "test.head()"
      ]
    },
    {
      "cell_type": "code",
      "source": [
        "test.dtypes"
      ],
      "metadata": {
        "colab": {
          "base_uri": "https://localhost:8080/"
        },
        "id": "O4t6bdPZ8iFy",
        "outputId": "6af93f72-ada0-4dbb-e775-7f4329a7257f"
      },
      "id": "O4t6bdPZ8iFy",
      "execution_count": 56,
      "outputs": [
        {
          "output_type": "execute_result",
          "data": {
            "text/plain": [
              "user_id                    object\n",
              "higher_education_proba    float64\n",
              "dtype: object"
            ]
          },
          "metadata": {},
          "execution_count": 56
        }
      ]
    },
    {
      "cell_type": "markdown",
      "id": "791eb686",
      "metadata": {
        "papermill": {
          "duration": 0.468301,
          "end_time": "2022-04-14T06:34:20.661704",
          "exception": false,
          "start_time": "2022-04-14T06:34:20.193403",
          "status": "completed"
        },
        "tags": [],
        "id": "791eb686"
      },
      "source": [
        "_____________________"
      ]
    },
    {
      "cell_type": "markdown",
      "source": [
        "# 2. Feature Engineering"
      ],
      "metadata": {
        "id": "tP57Q8Lx99Si"
      },
      "id": "tP57Q8Lx99Si"
    },
    {
      "cell_type": "markdown",
      "source": [
        "Перед тем, как приступить к анализу транзакционных данных, нужно создать полезные признаки на основе столбцов transaction_dttm и transaction_amt. Это позволит в дальнейшем получить больше информации (например, проследить динамику)  в разрезе различных измерений (таких, как время дня, дни недели и т.д.), а также использовать полученные признаки в моделях машинного обучения."
      ],
      "metadata": {
        "id": "2p2s6askE_QQ"
      },
      "id": "2p2s6askE_QQ"
    },
    {
      "cell_type": "code",
      "execution_count": 57,
      "id": "c797c931",
      "metadata": {
        "execution": {
          "iopub.execute_input": "2022-04-13T13:55:18.405023Z",
          "iopub.status.busy": "2022-04-13T13:55:18.40463Z",
          "iopub.status.idle": "2022-04-13T13:58:33.117955Z",
          "shell.execute_reply": "2022-04-13T13:58:33.116942Z",
          "shell.execute_reply.started": "2022-04-13T13:55:18.404985Z"
        },
        "papermill": {
          "duration": null,
          "end_time": null,
          "exception": null,
          "start_time": null,
          "status": "pending"
        },
        "tags": [],
        "colab": {
          "base_uri": "https://localhost:8080/",
          "height": 270
        },
        "id": "c797c931",
        "outputId": "a2938824-9ce1-4491-d124-ea7396b74e95"
      },
      "outputs": [
        {
          "output_type": "execute_result",
          "data": {
            "text/plain": [
              "                            user_id  mcc_code  currency_rk  transaction_amt  \\\n",
              "0  000932580e404dafbecd5916d4640938      5411           48      -361.072296   \n",
              "1  000932580e404dafbecd5916d4640938      5499           48      -137.313980   \n",
              "2  000932580e404dafbecd5916d4640938      5499           48      -138.849808   \n",
              "3  000932580e404dafbecd5916d4640938      4829           48      -309.476532   \n",
              "4  000932580e404dafbecd5916d4640938      5411           48      -133.473694   \n",
              "\n",
              "  transaction_dttm  weekofyear  day_of_week  month  day  hour  is_afternoon  \\\n",
              "0       2020-08-03          32            0      8    3     8             0   \n",
              "1       2020-08-05          32            2      8    5     1             0   \n",
              "2       2020-08-05          32            2      8    5     3             0   \n",
              "3       2020-08-06          32            3      8    6     0             0   \n",
              "4       2020-08-09          32            6      8    9     0             0   \n",
              "\n",
              "   early_morning  is_weekend  operation_type  transaction_amt_abs  \n",
              "0              1           0               0           361.072296  \n",
              "1              0           0               0           137.313980  \n",
              "2              0           0               0           138.849808  \n",
              "3              0           0               0           309.476532  \n",
              "4              0           1               0           133.473694  "
            ],
            "text/html": [
              "\n",
              "  <div id=\"df-280f1b2e-b30a-4efd-a4dc-c9d0b98772d3\">\n",
              "    <div class=\"colab-df-container\">\n",
              "      <div>\n",
              "<style scoped>\n",
              "    .dataframe tbody tr th:only-of-type {\n",
              "        vertical-align: middle;\n",
              "    }\n",
              "\n",
              "    .dataframe tbody tr th {\n",
              "        vertical-align: top;\n",
              "    }\n",
              "\n",
              "    .dataframe thead th {\n",
              "        text-align: right;\n",
              "    }\n",
              "</style>\n",
              "<table border=\"1\" class=\"dataframe\">\n",
              "  <thead>\n",
              "    <tr style=\"text-align: right;\">\n",
              "      <th></th>\n",
              "      <th>user_id</th>\n",
              "      <th>mcc_code</th>\n",
              "      <th>currency_rk</th>\n",
              "      <th>transaction_amt</th>\n",
              "      <th>transaction_dttm</th>\n",
              "      <th>weekofyear</th>\n",
              "      <th>day_of_week</th>\n",
              "      <th>month</th>\n",
              "      <th>day</th>\n",
              "      <th>hour</th>\n",
              "      <th>is_afternoon</th>\n",
              "      <th>early_morning</th>\n",
              "      <th>is_weekend</th>\n",
              "      <th>operation_type</th>\n",
              "      <th>transaction_amt_abs</th>\n",
              "    </tr>\n",
              "  </thead>\n",
              "  <tbody>\n",
              "    <tr>\n",
              "      <th>0</th>\n",
              "      <td>000932580e404dafbecd5916d4640938</td>\n",
              "      <td>5411</td>\n",
              "      <td>48</td>\n",
              "      <td>-361.072296</td>\n",
              "      <td>2020-08-03</td>\n",
              "      <td>32</td>\n",
              "      <td>0</td>\n",
              "      <td>8</td>\n",
              "      <td>3</td>\n",
              "      <td>8</td>\n",
              "      <td>0</td>\n",
              "      <td>1</td>\n",
              "      <td>0</td>\n",
              "      <td>0</td>\n",
              "      <td>361.072296</td>\n",
              "    </tr>\n",
              "    <tr>\n",
              "      <th>1</th>\n",
              "      <td>000932580e404dafbecd5916d4640938</td>\n",
              "      <td>5499</td>\n",
              "      <td>48</td>\n",
              "      <td>-137.313980</td>\n",
              "      <td>2020-08-05</td>\n",
              "      <td>32</td>\n",
              "      <td>2</td>\n",
              "      <td>8</td>\n",
              "      <td>5</td>\n",
              "      <td>1</td>\n",
              "      <td>0</td>\n",
              "      <td>0</td>\n",
              "      <td>0</td>\n",
              "      <td>0</td>\n",
              "      <td>137.313980</td>\n",
              "    </tr>\n",
              "    <tr>\n",
              "      <th>2</th>\n",
              "      <td>000932580e404dafbecd5916d4640938</td>\n",
              "      <td>5499</td>\n",
              "      <td>48</td>\n",
              "      <td>-138.849808</td>\n",
              "      <td>2020-08-05</td>\n",
              "      <td>32</td>\n",
              "      <td>2</td>\n",
              "      <td>8</td>\n",
              "      <td>5</td>\n",
              "      <td>3</td>\n",
              "      <td>0</td>\n",
              "      <td>0</td>\n",
              "      <td>0</td>\n",
              "      <td>0</td>\n",
              "      <td>138.849808</td>\n",
              "    </tr>\n",
              "    <tr>\n",
              "      <th>3</th>\n",
              "      <td>000932580e404dafbecd5916d4640938</td>\n",
              "      <td>4829</td>\n",
              "      <td>48</td>\n",
              "      <td>-309.476532</td>\n",
              "      <td>2020-08-06</td>\n",
              "      <td>32</td>\n",
              "      <td>3</td>\n",
              "      <td>8</td>\n",
              "      <td>6</td>\n",
              "      <td>0</td>\n",
              "      <td>0</td>\n",
              "      <td>0</td>\n",
              "      <td>0</td>\n",
              "      <td>0</td>\n",
              "      <td>309.476532</td>\n",
              "    </tr>\n",
              "    <tr>\n",
              "      <th>4</th>\n",
              "      <td>000932580e404dafbecd5916d4640938</td>\n",
              "      <td>5411</td>\n",
              "      <td>48</td>\n",
              "      <td>-133.473694</td>\n",
              "      <td>2020-08-09</td>\n",
              "      <td>32</td>\n",
              "      <td>6</td>\n",
              "      <td>8</td>\n",
              "      <td>9</td>\n",
              "      <td>0</td>\n",
              "      <td>0</td>\n",
              "      <td>0</td>\n",
              "      <td>1</td>\n",
              "      <td>0</td>\n",
              "      <td>133.473694</td>\n",
              "    </tr>\n",
              "  </tbody>\n",
              "</table>\n",
              "</div>\n",
              "      <button class=\"colab-df-convert\" onclick=\"convertToInteractive('df-280f1b2e-b30a-4efd-a4dc-c9d0b98772d3')\"\n",
              "              title=\"Convert this dataframe to an interactive table.\"\n",
              "              style=\"display:none;\">\n",
              "        \n",
              "  <svg xmlns=\"http://www.w3.org/2000/svg\" height=\"24px\"viewBox=\"0 0 24 24\"\n",
              "       width=\"24px\">\n",
              "    <path d=\"M0 0h24v24H0V0z\" fill=\"none\"/>\n",
              "    <path d=\"M18.56 5.44l.94 2.06.94-2.06 2.06-.94-2.06-.94-.94-2.06-.94 2.06-2.06.94zm-11 1L8.5 8.5l.94-2.06 2.06-.94-2.06-.94L8.5 2.5l-.94 2.06-2.06.94zm10 10l.94 2.06.94-2.06 2.06-.94-2.06-.94-.94-2.06-.94 2.06-2.06.94z\"/><path d=\"M17.41 7.96l-1.37-1.37c-.4-.4-.92-.59-1.43-.59-.52 0-1.04.2-1.43.59L10.3 9.45l-7.72 7.72c-.78.78-.78 2.05 0 2.83L4 21.41c.39.39.9.59 1.41.59.51 0 1.02-.2 1.41-.59l7.78-7.78 2.81-2.81c.8-.78.8-2.07 0-2.86zM5.41 20L4 18.59l7.72-7.72 1.47 1.35L5.41 20z\"/>\n",
              "  </svg>\n",
              "      </button>\n",
              "      \n",
              "  <style>\n",
              "    .colab-df-container {\n",
              "      display:flex;\n",
              "      flex-wrap:wrap;\n",
              "      gap: 12px;\n",
              "    }\n",
              "\n",
              "    .colab-df-convert {\n",
              "      background-color: #E8F0FE;\n",
              "      border: none;\n",
              "      border-radius: 50%;\n",
              "      cursor: pointer;\n",
              "      display: none;\n",
              "      fill: #1967D2;\n",
              "      height: 32px;\n",
              "      padding: 0 0 0 0;\n",
              "      width: 32px;\n",
              "    }\n",
              "\n",
              "    .colab-df-convert:hover {\n",
              "      background-color: #E2EBFA;\n",
              "      box-shadow: 0px 1px 2px rgba(60, 64, 67, 0.3), 0px 1px 3px 1px rgba(60, 64, 67, 0.15);\n",
              "      fill: #174EA6;\n",
              "    }\n",
              "\n",
              "    [theme=dark] .colab-df-convert {\n",
              "      background-color: #3B4455;\n",
              "      fill: #D2E3FC;\n",
              "    }\n",
              "\n",
              "    [theme=dark] .colab-df-convert:hover {\n",
              "      background-color: #434B5C;\n",
              "      box-shadow: 0px 1px 3px 1px rgba(0, 0, 0, 0.15);\n",
              "      filter: drop-shadow(0px 1px 2px rgba(0, 0, 0, 0.3));\n",
              "      fill: #FFFFFF;\n",
              "    }\n",
              "  </style>\n",
              "\n",
              "      <script>\n",
              "        const buttonEl =\n",
              "          document.querySelector('#df-280f1b2e-b30a-4efd-a4dc-c9d0b98772d3 button.colab-df-convert');\n",
              "        buttonEl.style.display =\n",
              "          google.colab.kernel.accessAllowed ? 'block' : 'none';\n",
              "\n",
              "        async function convertToInteractive(key) {\n",
              "          const element = document.querySelector('#df-280f1b2e-b30a-4efd-a4dc-c9d0b98772d3');\n",
              "          const dataTable =\n",
              "            await google.colab.kernel.invokeFunction('convertToInteractive',\n",
              "                                                     [key], {});\n",
              "          if (!dataTable) return;\n",
              "\n",
              "          const docLinkHtml = 'Like what you see? Visit the ' +\n",
              "            '<a target=\"_blank\" href=https://colab.research.google.com/notebooks/data_table.ipynb>data table notebook</a>'\n",
              "            + ' to learn more about interactive tables.';\n",
              "          element.innerHTML = '';\n",
              "          dataTable['output_type'] = 'display_data';\n",
              "          await google.colab.output.renderOutput(dataTable, element);\n",
              "          const docLink = document.createElement('div');\n",
              "          docLink.innerHTML = docLinkHtml;\n",
              "          element.appendChild(docLink);\n",
              "        }\n",
              "      </script>\n",
              "    </div>\n",
              "  </div>\n",
              "  "
            ]
          },
          "metadata": {},
          "execution_count": 57
        }
      ],
      "source": [
        "transactions['weekofyear'] = transactions['transaction_dttm'].dt.week.astype('int16') # номер недели в году\n",
        "transactions['day_of_week'] = transactions['transaction_dttm'].dt.dayofweek.astype('int16') # номер дня недели\n",
        "transactions['month'] = transactions['transaction_dttm'].dt.month.astype('int16') # номер месяца в году\n",
        "transactions['day'] = transactions['transaction_dttm'].dt.day.astype('int16') # номер дня в месяце\n",
        "transactions['hour'] = transactions['transaction_dttm'].dt.hour.astype('int16') # час от 0 до 24\n",
        "\n",
        "transactions['is_afternoon'] = (transactions['hour'] > 12).astype('int16') # признак второй половины дня\n",
        "transactions['early_morning'] = ((transactions['hour'] > 4) & (transactions['hour'] <= 8)).astype('int16') # признак \"раннее утро\"\n",
        "# transactions['morning'] = ((transactions['hour'] > 8) & (transactions['hour'] <= 12)).astype('int16') # признак \"утро\"\n",
        "# transactions['noon'] = ((transactions['hour'] > 12) & (transactions['hour'] <= 17)).astype('int16') # признак \"день\"\n",
        "# transactions['eve'] = ((transactions['hour'] > 18) & (transactions['hour'] <= 21)).astype('int16') # признак \"вечер\"\n",
        "# transactions['night'] = ((transactions['hour'] > 21) & (transactions['hour'] <= 24)).astype('int16') # признак \"ночь\"\n",
        "# transactions['late_night'] = (transactions['hour'] <= 4).astype('int16') # признак \"глубокая ночь\"\n",
        "\n",
        "transactions['is_weekend'] = (transactions['day_of_week'] > 4).astype('int16') # признак \"выходной день\"\n",
        "# transactions['is_month_start'] = transactions['transaction_dttm'].dt.is_month_start.astype('int16') # признак \"начало месяца\"\n",
        "# transactions['is_month_end'] = transactions['transaction_dttm'].dt.is_month_end.astype('int16') # признак \"конец месяца\"\n",
        "\n",
        "transactions['transaction_dttm'] = transactions['transaction_dttm'].dt.strftime(\"%Y-%m-%d\") # преобразование даты в формат \"yy-MM-dd\"\n",
        "\n",
        "transactions['operation_type'] = np.where(transactions['transaction_amt'] > 0, 1, 0).astype('int16') # признак \"тип операции\" (поступение - 1, списание - 0)\n",
        "\n",
        "transactions['transaction_amt_abs'] = transactions['transaction_amt'].abs().astype('float32') # модуль суммы транзакции\n",
        "transactions.head()"
      ]
    },
    {
      "cell_type": "markdown",
      "source": [
        "# 3. EDA"
      ],
      "metadata": {
        "id": "Dhla8zPatmf6"
      },
      "id": "Dhla8zPatmf6"
    },
    {
      "cell_type": "markdown",
      "source": [
        "Построим первичную краткую аналитическую сводку по данным."
      ],
      "metadata": {
        "id": "yaoe1m4Ntu8a"
      },
      "id": "yaoe1m4Ntu8a"
    },
    {
      "cell_type": "code",
      "execution_count": 58,
      "id": "246edc98",
      "metadata": {
        "execution": {
          "iopub.execute_input": "2022-04-13T09:18:50.016685Z",
          "iopub.status.busy": "2022-04-13T09:18:50.016369Z",
          "iopub.status.idle": "2022-04-13T09:19:01.957Z",
          "shell.execute_reply": "2022-04-13T09:19:01.956092Z",
          "shell.execute_reply.started": "2022-04-13T09:18:50.01665Z"
        },
        "jupyter": {
          "source_hidden": true
        },
        "papermill": {
          "duration": null,
          "end_time": null,
          "exception": null,
          "start_time": null,
          "status": "pending"
        },
        "tags": [],
        "colab": {
          "base_uri": "https://localhost:8080/"
        },
        "id": "246edc98",
        "outputId": "a1f916a1-16b5-49b4-c44f-2cf2ef9f8f89"
      },
      "outputs": [
        {
          "output_type": "stream",
          "name": "stdout",
          "text": [
            "Время начала истории транзакций в фрейме: 2020-07-17\n",
            "Время окончания истории транзакций в фрейме: 2021-08-14\n",
            "Количество уникальных клиентов: 22533\n",
            "Количество уникальных mcc_code: 386\n",
            "------------------------------------------------------------\n",
            "История одного клиента по данным транзакций (id=000932580e404dafbecd5916d4640938):\n",
            "Время начала истории транзакций конкретного клиента в фрейме: 2020-08-03\n",
            "Время окончания истории транзакций конкретного клиента в фрейме: 2021-07-31\n",
            "Количество уникальных mcc_code у конкретного клиента: 45\n"
          ]
        }
      ],
      "source": [
        "print(\"Время начала истории транзакций в фрейме:\", transactions[\"transaction_dttm\"].min())\n",
        "print(\"Время окончания истории транзакций в фрейме:\", transactions[\"transaction_dttm\"].max())\n",
        "print(\"Количество уникальных клиентов:\", transactions[\"user_id\"].nunique())\n",
        "print(\"Количество уникальных mcc_code:\", transactions[\"mcc_code\"].nunique())\n",
        "print(\"-\"*60)\n",
        "print(\"История одного клиента по данным транзакций (id=000932580e404dafbecd5916d4640938):\")\n",
        "print(\"Время начала истории транзакций конкретного клиента в фрейме:\", \n",
        "      transactions.loc[transactions['user_id'] == \"000932580e404dafbecd5916d4640938\"][\"transaction_dttm\"].min())\n",
        "print(\"Время окончания истории транзакций конкретного клиента в фрейме:\", \n",
        "      transactions.loc[transactions['user_id'] == \"000932580e404dafbecd5916d4640938\"][\"transaction_dttm\"].max())\n",
        "print(\"Количество уникальных mcc_code у конкретного клиента:\", transactions.loc[transactions['user_id'] == \"000932580e404dafbecd5916d4640938\"][\"mcc_code\"].nunique())"
      ]
    },
    {
      "cell_type": "markdown",
      "source": [
        "Посмотрим динамику транзакций за определенный период:"
      ],
      "metadata": {
        "id": "_wmz-t3n6ctn"
      },
      "id": "_wmz-t3n6ctn"
    },
    {
      "cell_type": "code",
      "execution_count": 77,
      "id": "0c9b4ceb",
      "metadata": {
        "execution": {
          "iopub.execute_input": "2022-04-13T09:59:42.230206Z",
          "iopub.status.busy": "2022-04-13T09:59:42.229825Z",
          "iopub.status.idle": "2022-04-13T09:59:57.137027Z",
          "shell.execute_reply": "2022-04-13T09:59:57.135811Z",
          "shell.execute_reply.started": "2022-04-13T09:59:42.23017Z"
        },
        "papermill": {
          "duration": null,
          "end_time": null,
          "exception": null,
          "start_time": null,
          "status": "pending"
        },
        "tags": [],
        "colab": {
          "base_uri": "https://localhost:8080/",
          "height": 289
        },
        "id": "0c9b4ceb",
        "outputId": "1ec47f97-cca3-4780-9934-016cba121f94"
      },
      "outputs": [
        {
          "output_type": "display_data",
          "data": {
            "text/plain": [
              "<Figure size 1440x216 with 1 Axes>"
            ],
            "image/png": "[encoded data removed]"
          },
          "metadata": {
            "needs_background": "light"
          }
        }
      ],
      "source": [
        "plt.figure(figsize=(20,3))\n",
        "\n",
        "start_date = '2020-08-17'\n",
        "end_date = '2020-09-17'\n",
        "\n",
        "mask = (transactions['transaction_dttm'] > start_date) & (transactions['transaction_dttm'] <= end_date)\n",
        "\n",
        "plt.plot(transactions.loc[mask].loc[transactions['operation_type'] == 1].groupby('transaction_dttm')\n",
        "         ['transaction_amt_abs'].sum().index, \n",
        "         transactions.loc[mask].loc[transactions['operation_type'] == 1].groupby('transaction_dttm')\n",
        "         ['transaction_amt_abs'].sum(), \n",
        "         linewidth=1, label='Поступления', color='green')\n",
        "\n",
        "plt.plot(transactions.loc[mask].loc[transactions['operation_type'] == 0].groupby('transaction_dttm')\n",
        "         ['transaction_amt_abs'].sum().index, \n",
        "         transactions.loc[mask].loc[transactions['operation_type'] == 0].groupby('transaction_dttm')\n",
        "         ['transaction_amt_abs'].sum(), \n",
        "         linewidth=1, label='Списания', color='red')\n",
        "\n",
        "plt.title(f'Динамика общей суммы транзакций за {start_date} - {end_date}')\n",
        "plt.xlabel('Дата')\n",
        "plt.xticks(rotation=90)\n",
        "plt.ylabel('Сумма транзакции')\n",
        "\n",
        "ax = plt.gca()\n",
        "\n",
        "plt.legend()\n",
        "\n",
        "plt.show() "
      ]
    },
    {
      "cell_type": "markdown",
      "source": [
        "\n",
        "*   Видно, что динамика трат и поступлений зачастую совпадет.\n",
        "\n"
      ],
      "metadata": {
        "id": "mGZPtWMHt7B8"
      },
      "id": "mGZPtWMHt7B8"
    },
    {
      "cell_type": "code",
      "source": [
        "plt.figure(figsize=(20,3))\n",
        "\n",
        "plt.plot(transactions.loc[transactions['operation_type'] == 1].groupby('day')\n",
        "         ['transaction_amt_abs'].sum().index, \n",
        "         transactions.loc[transactions['operation_type'] == 1].groupby('day')\n",
        "         ['transaction_amt_abs'].sum(), \n",
        "         linewidth=1, label='Поступления', color='green')\n",
        "\n",
        "plt.plot(transactions.loc[transactions['operation_type'] == 0].groupby('day')\n",
        "         ['transaction_amt_abs'].sum().index, \n",
        "         transactions.loc[transactions['operation_type'] == 0].groupby('day')\n",
        "         ['transaction_amt_abs'].sum(), \n",
        "         linewidth=1, label='Списания', color='red')\n",
        "\n",
        "plt.title('Динамика общей суммы транзакций по дням месяца (за время наблюдений)')\n",
        "plt.xlabel('Дата')\n",
        "plt.xticks(rotation=90)\n",
        "plt.ylabel('Сумма транзакции')\n",
        "\n",
        "ax = plt.gca()\n",
        "\n",
        "plt.legend()\n",
        "\n",
        "plt.show() "
      ],
      "metadata": {
        "colab": {
          "base_uri": "https://localhost:8080/",
          "height": 244
        },
        "id": "d193y4zfYq4S",
        "outputId": "7890b39f-dada-4b07-db57-57fbed7b71de"
      },
      "id": "d193y4zfYq4S",
      "execution_count": 60,
      "outputs": [
        {
          "output_type": "display_data",
          "data": {
            "text/plain": [
              "<Figure size 1440x216 with 1 Axes>"
            ],
            "image/png": "[encoded data removed]"
          },
          "metadata": {
            "needs_background": "light"
          }
        }
      ]
    },
    {
      "cell_type": "markdown",
      "source": [
        "\n",
        "\n",
        "*   Можно заметить скачок объема затрат и поступлений к концу месяца. Резкий спад объясняется отсутствием 31 дня в некоторых месяцах.\n",
        "*   Также видна активность ближе к средним числам месяца.\n",
        "\n"
      ],
      "metadata": {
        "id": "vZJHz6ovm5bM"
      },
      "id": "vZJHz6ovm5bM"
    },
    {
      "cell_type": "code",
      "source": [
        "plt.figure(figsize=(20,3))\n",
        "\n",
        "plt.plot(transactions.loc[transactions['operation_type'] == 1].groupby('month')\n",
        "         ['transaction_amt_abs'].sum().index, \n",
        "         transactions.loc[transactions['operation_type'] == 1].groupby('month')\n",
        "         ['transaction_amt_abs'].sum(), \n",
        "         linewidth=1, label='Поступления', color='green')\n",
        "\n",
        "plt.plot(transactions.loc[transactions['operation_type'] == 0].groupby('month')\n",
        "         ['transaction_amt_abs'].sum().index, \n",
        "         transactions.loc[transactions['operation_type'] == 0].groupby('month')\n",
        "         ['transaction_amt_abs'].sum(), \n",
        "         linewidth=1, label='Списания', color='red')\n",
        "\n",
        "plt.title('Динамика общей суммы транзакций по месяцам (за время наблюдений)')\n",
        "plt.xlabel('Дата')\n",
        "plt.xticks(rotation=90)\n",
        "plt.ylabel('Сумма транзакции')\n",
        "\n",
        "ax = plt.gca()\n",
        "\n",
        "plt.legend()\n",
        "\n",
        "plt.show() "
      ],
      "metadata": {
        "colab": {
          "base_uri": "https://localhost:8080/",
          "height": 244
        },
        "id": "mB3GRzknZagL",
        "outputId": "37488d8d-89ee-4e02-c755-a157ebc35b2c"
      },
      "id": "mB3GRzknZagL",
      "execution_count": 61,
      "outputs": [
        {
          "output_type": "display_data",
          "data": {
            "text/plain": [
              "<Figure size 1440x216 with 1 Axes>"
            ],
            "image/png": "[encoded data removed]"
          },
          "metadata": {
            "needs_background": "light"
          }
        }
      ]
    },
    {
      "cell_type": "markdown",
      "source": [
        "\n",
        "\n",
        "*   Заметна тенденция к меньшему количеству банковских операций в начале года и большему к концу года (особенно затрат к концу года).\n",
        "*   Сейчас можно сделать вывод, что в данных гораздо большее количество операций списания.\n",
        "\n"
      ],
      "metadata": {
        "id": "uLYKUyhCuf1C"
      },
      "id": "uLYKUyhCuf1C"
    },
    {
      "cell_type": "markdown",
      "id": "73452284",
      "metadata": {
        "papermill": {
          "duration": null,
          "end_time": null,
          "exception": null,
          "start_time": null,
          "status": "pending"
        },
        "tags": [],
        "id": "73452284"
      },
      "source": [
        "_______________________________________________________________________________"
      ]
    },
    {
      "cell_type": "markdown",
      "source": [
        "# 4. Подготовка данных"
      ],
      "metadata": {
        "id": "kWfB9VXKvdwi"
      },
      "id": "kWfB9VXKvdwi"
    },
    {
      "cell_type": "markdown",
      "source": [
        "Перед моделированием необходимо подготовить данные. Создадим фрейм, состоящий из различных статистических агрегаций transaction_amt по раннее выделенным признакам.\n",
        "\n",
        "Потребуются две фукнции:"
      ],
      "metadata": {
        "id": "XQ_94ZGRvv9T"
      },
      "id": "XQ_94ZGRvv9T"
    },
    {
      "cell_type": "code",
      "execution_count": 62,
      "id": "a47d3391",
      "metadata": {
        "execution": {
          "iopub.execute_input": "2022-04-13T14:00:28.06991Z",
          "iopub.status.busy": "2022-04-13T14:00:28.069543Z",
          "iopub.status.idle": "2022-04-13T14:00:28.085015Z",
          "shell.execute_reply": "2022-04-13T14:00:28.083749Z",
          "shell.execute_reply.started": "2022-04-13T14:00:28.069858Z"
        },
        "papermill": {
          "duration": null,
          "end_time": null,
          "exception": null,
          "start_time": null,
          "status": "pending"
        },
        "tags": [],
        "id": "a47d3391"
      },
      "outputs": [],
      "source": [
        "def __amnt_pivot_table_by_column_as_frame(frame, column, agg_funcs=None) -> pd.DataFrame:\n",
        "    \"\"\"\n",
        "    Строит pivot table для между колонкой `transaction_amt` и column на основе переданных aggregations_on\n",
        "    :param frame: pd.DataFrame транзакций\n",
        "    :param column: название колонки, на основе `transaction_amt`  и column будет построен pivot_table\n",
        "    :param agg_funcs: список из функций, которые нужно применить, по умолчанию ['mean', 'count']\n",
        "    :return: pd.DataFrame\n",
        "    \"\"\"\n",
        "    if agg_funcs is None:\n",
        "        agg_funcs = ['mean', 'count']\n",
        "    aggs = pd.pivot_table(frame, values='transaction_amt',\n",
        "                          index=['user_id'], columns=[column],\n",
        "                          aggfunc={'transaction_amt': agg_funcs},\n",
        "                          fill_value=0.0)\n",
        "    aggs.columns = [f'{col[0]}_{column}_{col[1]}' for col in aggs.columns.values]\n",
        "    return aggs\n",
        "\n",
        "\n",
        "def extract_basic_aggregations(transactions_frame: pd.DataFrame, cat_columns=None, agg_funcs=None) -> pd.DataFrame:\n",
        "    \"\"\"\n",
        "    :param transactions_frame: pd.DataFrame с транзакциями\n",
        "    :param cat_columns: список категориальных переменных, для которых будут построены агрегаты по `transaction_amt`\n",
        "    :param agg_funcs: список функций, который нужно применить для подсчета агрегатов, по умолчанию\n",
        "    ['sum', 'mean', 'count']\n",
        "    :return: pd.DataFrame с извлеченными признаками\n",
        "    \"\"\"\n",
        "    if not cat_columns:\n",
        "        cat_columns = CAT_COLUMNS\n",
        "\n",
        "    pivot_tables = []\n",
        "    for col in cat_columns:\n",
        "        pivot_tables.append(__amnt_pivot_table_by_column_as_frame(transactions_frame, column=col,\n",
        "                                                                  agg_funcs=agg_funcs))\n",
        "    pivot_tables = pd.concat(pivot_tables, axis=1)\n",
        "\n",
        "    aggs = {\n",
        "        'transaction_amt': ['mean', 'median', 'sum', 'std', 'count']} # посчитаем статистики для транзакций\n",
        "\n",
        "    numeric_stats = transactions_frame.groupby(['user_id']).agg(aggs)\n",
        "\n",
        "    numeric_stats.columns = [k + '_' + agg for k in aggs.keys() for agg in aggs[k]]\n",
        "\n",
        "    return pd.concat([pivot_tables, numeric_stats], axis=1).reset_index()"
      ]
    },
    {
      "cell_type": "markdown",
      "source": [
        "Выделим в контейнеры названия категориальных переменных и агрегируемые переменные."
      ],
      "metadata": {
        "id": "700AY2OGwJja"
      },
      "id": "700AY2OGwJja"
    },
    {
      "cell_type": "code",
      "execution_count": 63,
      "id": "359585a7",
      "metadata": {
        "execution": {
          "iopub.execute_input": "2022-04-13T14:00:32.217041Z",
          "iopub.status.busy": "2022-04-13T14:00:32.215662Z",
          "iopub.status.idle": "2022-04-13T14:01:13.152351Z",
          "shell.execute_reply": "2022-04-13T14:01:13.151541Z",
          "shell.execute_reply.started": "2022-04-13T14:00:32.216986Z"
        },
        "papermill": {
          "duration": null,
          "end_time": null,
          "exception": null,
          "start_time": null,
          "status": "pending"
        },
        "tags": [],
        "colab": {
          "base_uri": "https://localhost:8080/"
        },
        "id": "359585a7",
        "outputId": "26f9aa75-5b3c-47f6-fa1d-0a127aa7b0f6"
      },
      "outputs": [
        {
          "output_type": "stream",
          "name": "stdout",
          "text": [
            "Memory usage of dataframe is 124.55 MB\n",
            "Memory usage after optimization is: 52.26 MB\n",
            "Decreased by 58.0%\n"
          ]
        }
      ],
      "source": [
        "CAT_COLUMNS = ['mcc_code', 'operation_type', 'currency_rk', \n",
        "               'day_of_week', 'hour', 'weekofyear', \n",
        "               'is_afternoon', 'early_morning'] \n",
        "\n",
        "REAL_COLUMNS = ['transaction_amt']\n",
        "\n",
        "features_df = extract_basic_aggregations(transactions, cat_columns=CAT_COLUMNS)\n",
        "features_df = reduce_mem_usage(features_df)"
      ]
    },
    {
      "cell_type": "markdown",
      "source": [
        "Полученный фрейм готов к примению моделей ML."
      ],
      "metadata": {
        "id": "sEFSyMKiwqvp"
      },
      "id": "sEFSyMKiwqvp"
    },
    {
      "cell_type": "code",
      "source": [
        "features_df.head()"
      ],
      "metadata": {
        "colab": {
          "base_uri": "https://localhost:8080/",
          "height": 299
        },
        "id": "DE6kLRUKwoJi",
        "outputId": "7c44bf6a-183d-49d0-a5e5-e6864eb47a3d"
      },
      "id": "DE6kLRUKwoJi",
      "execution_count": 64,
      "outputs": [
        {
          "output_type": "execute_result",
          "data": {
            "text/plain": [
              "                            user_id  count_mcc_code_-1  count_mcc_code_742  \\\n",
              "0  000932580e404dafbecd5916d4640938                  6                   0   \n",
              "1  0009e36b42cb4caeb928a1e596819495                  2                   0   \n",
              "2  000b29acb6bd44f99473c1be5ca28f3c                 36                   0   \n",
              "3  000c5327d99941fe934169838c65b92c                 27                   1   \n",
              "4  000e0d54d7c945ebb8f6f855972e8396                 11                   0   \n",
              "\n",
              "   count_mcc_code_763  count_mcc_code_780  count_mcc_code_1520  \\\n",
              "0                   0                   0                    0   \n",
              "1                   0                   0                    0   \n",
              "2                   0                   0                    0   \n",
              "3                   0                   0                    0   \n",
              "4                   0                   0                    0   \n",
              "\n",
              "   count_mcc_code_1711  count_mcc_code_1731  count_mcc_code_1740  \\\n",
              "0                    0                    0                    0   \n",
              "1                    0                    0                    0   \n",
              "2                    0                    0                    0   \n",
              "3                    0                    0                    0   \n",
              "4                    0                    0                    0   \n",
              "\n",
              "   count_mcc_code_1750  ...  mean_is_afternoon_1  count_early_morning_0  \\\n",
              "0                    0  ...               -774.5                    708   \n",
              "1                    0  ...              -1098.0                    621   \n",
              "2                    0  ...               3772.0                    655   \n",
              "3                    0  ...               1368.0                    695   \n",
              "4                    0  ...               -282.0                    725   \n",
              "\n",
              "   count_early_morning_1  mean_early_morning_0  mean_early_morning_1  \\\n",
              "0                    137                -341.5            425.761078   \n",
              "1                    127                -974.5           -886.041504   \n",
              "2                    314                 919.0            636.512512   \n",
              "3                     28                1041.0          19228.888672   \n",
              "4                    304                -370.0           -490.133148   \n",
              "\n",
              "   transaction_amt_mean  transaction_amt_median  transaction_amt_sum  \\\n",
              "0              -217.125               -122.1875        -1.834270e+05   \n",
              "1              -959.500               -271.5000        -7.176781e+05   \n",
              "2               827.500               -264.2500         8.016948e+05   \n",
              "3              1745.000               -420.0000         1.261829e+06   \n",
              "4              -405.500               -213.2500        -4.172423e+05   \n",
              "\n",
              "   transaction_amt_std  transaction_amt_count  \n",
              "0          3230.144531                    845  \n",
              "1          2866.268555                    748  \n",
              "2         20551.343750                    969  \n",
              "3         27666.181641                    723  \n",
              "4          2457.784912                   1029  \n",
              "\n",
              "[5 rows x 966 columns]"
            ],
            "text/html": [
              "\n",
              "  <div id=\"df-1eb41f8c-cccd-4dbe-b0b4-abb90bd97a98\">\n",
              "    <div class=\"colab-df-container\">\n",
              "      <div>\n",
              "<style scoped>\n",
              "    .dataframe tbody tr th:only-of-type {\n",
              "        vertical-align: middle;\n",
              "    }\n",
              "\n",
              "    .dataframe tbody tr th {\n",
              "        vertical-align: top;\n",
              "    }\n",
              "\n",
              "    .dataframe thead th {\n",
              "        text-align: right;\n",
              "    }\n",
              "</style>\n",
              "<table border=\"1\" class=\"dataframe\">\n",
              "  <thead>\n",
              "    <tr style=\"text-align: right;\">\n",
              "      <th></th>\n",
              "      <th>user_id</th>\n",
              "      <th>count_mcc_code_-1</th>\n",
              "      <th>count_mcc_code_742</th>\n",
              "      <th>count_mcc_code_763</th>\n",
              "      <th>count_mcc_code_780</th>\n",
              "      <th>count_mcc_code_1520</th>\n",
              "      <th>count_mcc_code_1711</th>\n",
              "      <th>count_mcc_code_1731</th>\n",
              "      <th>count_mcc_code_1740</th>\n",
              "      <th>count_mcc_code_1750</th>\n",
              "      <th>...</th>\n",
              "      <th>mean_is_afternoon_1</th>\n",
              "      <th>count_early_morning_0</th>\n",
              "      <th>count_early_morning_1</th>\n",
              "      <th>mean_early_morning_0</th>\n",
              "      <th>mean_early_morning_1</th>\n",
              "      <th>transaction_amt_mean</th>\n",
              "      <th>transaction_amt_median</th>\n",
              "      <th>transaction_amt_sum</th>\n",
              "      <th>transaction_amt_std</th>\n",
              "      <th>transaction_amt_count</th>\n",
              "    </tr>\n",
              "  </thead>\n",
              "  <tbody>\n",
              "    <tr>\n",
              "      <th>0</th>\n",
              "      <td>000932580e404dafbecd5916d4640938</td>\n",
              "      <td>6</td>\n",
              "      <td>0</td>\n",
              "      <td>0</td>\n",
              "      <td>0</td>\n",
              "      <td>0</td>\n",
              "      <td>0</td>\n",
              "      <td>0</td>\n",
              "      <td>0</td>\n",
              "      <td>0</td>\n",
              "      <td>...</td>\n",
              "      <td>-774.5</td>\n",
              "      <td>708</td>\n",
              "      <td>137</td>\n",
              "      <td>-341.5</td>\n",
              "      <td>425.761078</td>\n",
              "      <td>-217.125</td>\n",
              "      <td>-122.1875</td>\n",
              "      <td>-1.834270e+05</td>\n",
              "      <td>3230.144531</td>\n",
              "      <td>845</td>\n",
              "    </tr>\n",
              "    <tr>\n",
              "      <th>1</th>\n",
              "      <td>0009e36b42cb4caeb928a1e596819495</td>\n",
              "      <td>2</td>\n",
              "      <td>0</td>\n",
              "      <td>0</td>\n",
              "      <td>0</td>\n",
              "      <td>0</td>\n",
              "      <td>0</td>\n",
              "      <td>0</td>\n",
              "      <td>0</td>\n",
              "      <td>0</td>\n",
              "      <td>...</td>\n",
              "      <td>-1098.0</td>\n",
              "      <td>621</td>\n",
              "      <td>127</td>\n",
              "      <td>-974.5</td>\n",
              "      <td>-886.041504</td>\n",
              "      <td>-959.500</td>\n",
              "      <td>-271.5000</td>\n",
              "      <td>-7.176781e+05</td>\n",
              "      <td>2866.268555</td>\n",
              "      <td>748</td>\n",
              "    </tr>\n",
              "    <tr>\n",
              "      <th>2</th>\n",
              "      <td>000b29acb6bd44f99473c1be5ca28f3c</td>\n",
              "      <td>36</td>\n",
              "      <td>0</td>\n",
              "      <td>0</td>\n",
              "      <td>0</td>\n",
              "      <td>0</td>\n",
              "      <td>0</td>\n",
              "      <td>0</td>\n",
              "      <td>0</td>\n",
              "      <td>0</td>\n",
              "      <td>...</td>\n",
              "      <td>3772.0</td>\n",
              "      <td>655</td>\n",
              "      <td>314</td>\n",
              "      <td>919.0</td>\n",
              "      <td>636.512512</td>\n",
              "      <td>827.500</td>\n",
              "      <td>-264.2500</td>\n",
              "      <td>8.016948e+05</td>\n",
              "      <td>20551.343750</td>\n",
              "      <td>969</td>\n",
              "    </tr>\n",
              "    <tr>\n",
              "      <th>3</th>\n",
              "      <td>000c5327d99941fe934169838c65b92c</td>\n",
              "      <td>27</td>\n",
              "      <td>1</td>\n",
              "      <td>0</td>\n",
              "      <td>0</td>\n",
              "      <td>0</td>\n",
              "      <td>0</td>\n",
              "      <td>0</td>\n",
              "      <td>0</td>\n",
              "      <td>0</td>\n",
              "      <td>...</td>\n",
              "      <td>1368.0</td>\n",
              "      <td>695</td>\n",
              "      <td>28</td>\n",
              "      <td>1041.0</td>\n",
              "      <td>19228.888672</td>\n",
              "      <td>1745.000</td>\n",
              "      <td>-420.0000</td>\n",
              "      <td>1.261829e+06</td>\n",
              "      <td>27666.181641</td>\n",
              "      <td>723</td>\n",
              "    </tr>\n",
              "    <tr>\n",
              "      <th>4</th>\n",
              "      <td>000e0d54d7c945ebb8f6f855972e8396</td>\n",
              "      <td>11</td>\n",
              "      <td>0</td>\n",
              "      <td>0</td>\n",
              "      <td>0</td>\n",
              "      <td>0</td>\n",
              "      <td>0</td>\n",
              "      <td>0</td>\n",
              "      <td>0</td>\n",
              "      <td>0</td>\n",
              "      <td>...</td>\n",
              "      <td>-282.0</td>\n",
              "      <td>725</td>\n",
              "      <td>304</td>\n",
              "      <td>-370.0</td>\n",
              "      <td>-490.133148</td>\n",
              "      <td>-405.500</td>\n",
              "      <td>-213.2500</td>\n",
              "      <td>-4.172423e+05</td>\n",
              "      <td>2457.784912</td>\n",
              "      <td>1029</td>\n",
              "    </tr>\n",
              "  </tbody>\n",
              "</table>\n",
              "<p>5 rows × 966 columns</p>\n",
              "</div>\n",
              "      <button class=\"colab-df-convert\" onclick=\"convertToInteractive('df-1eb41f8c-cccd-4dbe-b0b4-abb90bd97a98')\"\n",
              "              title=\"Convert this dataframe to an interactive table.\"\n",
              "              style=\"display:none;\">\n",
              "        \n",
              "  <svg xmlns=\"http://www.w3.org/2000/svg\" height=\"24px\"viewBox=\"0 0 24 24\"\n",
              "       width=\"24px\">\n",
              "    <path d=\"M0 0h24v24H0V0z\" fill=\"none\"/>\n",
              "    <path d=\"M18.56 5.44l.94 2.06.94-2.06 2.06-.94-2.06-.94-.94-2.06-.94 2.06-2.06.94zm-11 1L8.5 8.5l.94-2.06 2.06-.94-2.06-.94L8.5 2.5l-.94 2.06-2.06.94zm10 10l.94 2.06.94-2.06 2.06-.94-2.06-.94-.94-2.06-.94 2.06-2.06.94z\"/><path d=\"M17.41 7.96l-1.37-1.37c-.4-.4-.92-.59-1.43-.59-.52 0-1.04.2-1.43.59L10.3 9.45l-7.72 7.72c-.78.78-.78 2.05 0 2.83L4 21.41c.39.39.9.59 1.41.59.51 0 1.02-.2 1.41-.59l7.78-7.78 2.81-2.81c.8-.78.8-2.07 0-2.86zM5.41 20L4 18.59l7.72-7.72 1.47 1.35L5.41 20z\"/>\n",
              "  </svg>\n",
              "      </button>\n",
              "      \n",
              "  <style>\n",
              "    .colab-df-container {\n",
              "      display:flex;\n",
              "      flex-wrap:wrap;\n",
              "      gap: 12px;\n",
              "    }\n",
              "\n",
              "    .colab-df-convert {\n",
              "      background-color: #E8F0FE;\n",
              "      border: none;\n",
              "      border-radius: 50%;\n",
              "      cursor: pointer;\n",
              "      display: none;\n",
              "      fill: #1967D2;\n",
              "      height: 32px;\n",
              "      padding: 0 0 0 0;\n",
              "      width: 32px;\n",
              "    }\n",
              "\n",
              "    .colab-df-convert:hover {\n",
              "      background-color: #E2EBFA;\n",
              "      box-shadow: 0px 1px 2px rgba(60, 64, 67, 0.3), 0px 1px 3px 1px rgba(60, 64, 67, 0.15);\n",
              "      fill: #174EA6;\n",
              "    }\n",
              "\n",
              "    [theme=dark] .colab-df-convert {\n",
              "      background-color: #3B4455;\n",
              "      fill: #D2E3FC;\n",
              "    }\n",
              "\n",
              "    [theme=dark] .colab-df-convert:hover {\n",
              "      background-color: #434B5C;\n",
              "      box-shadow: 0px 1px 3px 1px rgba(0, 0, 0, 0.15);\n",
              "      filter: drop-shadow(0px 1px 2px rgba(0, 0, 0, 0.3));\n",
              "      fill: #FFFFFF;\n",
              "    }\n",
              "  </style>\n",
              "\n",
              "      <script>\n",
              "        const buttonEl =\n",
              "          document.querySelector('#df-1eb41f8c-cccd-4dbe-b0b4-abb90bd97a98 button.colab-df-convert');\n",
              "        buttonEl.style.display =\n",
              "          google.colab.kernel.accessAllowed ? 'block' : 'none';\n",
              "\n",
              "        async function convertToInteractive(key) {\n",
              "          const element = document.querySelector('#df-1eb41f8c-cccd-4dbe-b0b4-abb90bd97a98');\n",
              "          const dataTable =\n",
              "            await google.colab.kernel.invokeFunction('convertToInteractive',\n",
              "                                                     [key], {});\n",
              "          if (!dataTable) return;\n",
              "\n",
              "          const docLinkHtml = 'Like what you see? Visit the ' +\n",
              "            '<a target=\"_blank\" href=https://colab.research.google.com/notebooks/data_table.ipynb>data table notebook</a>'\n",
              "            + ' to learn more about interactive tables.';\n",
              "          element.innerHTML = '';\n",
              "          dataTable['output_type'] = 'display_data';\n",
              "          await google.colab.output.renderOutput(dataTable, element);\n",
              "          const docLink = document.createElement('div');\n",
              "          docLink.innerHTML = docLinkHtml;\n",
              "          element.appendChild(docLink);\n",
              "        }\n",
              "      </script>\n",
              "    </div>\n",
              "  </div>\n",
              "  "
            ]
          },
          "metadata": {},
          "execution_count": 64
        }
      ]
    },
    {
      "cell_type": "markdown",
      "source": [
        "Объединим полученные признаки с трейн и тест данными по полю user_id."
      ],
      "metadata": {
        "id": "rNZH1Iq4wzGS"
      },
      "id": "rNZH1Iq4wzGS"
    },
    {
      "cell_type": "code",
      "execution_count": 65,
      "id": "487768e3",
      "metadata": {
        "execution": {
          "iopub.execute_input": "2022-04-13T14:01:55.45543Z",
          "iopub.status.busy": "2022-04-13T14:01:55.455134Z",
          "iopub.status.idle": "2022-04-13T14:01:58.955169Z",
          "shell.execute_reply": "2022-04-13T14:01:58.954147Z",
          "shell.execute_reply.started": "2022-04-13T14:01:55.455401Z"
        },
        "papermill": {
          "duration": null,
          "end_time": null,
          "exception": null,
          "start_time": null,
          "status": "pending"
        },
        "tags": [],
        "id": "487768e3"
      },
      "outputs": [],
      "source": [
        "merged_data = train.merge(features_df, how=\"left\", on=\"user_id\")\n",
        "merged_test = test.merge(features_df, how=\"left\", on=\"user_id\")"
      ]
    },
    {
      "cell_type": "code",
      "execution_count": 66,
      "id": "77976ab6",
      "metadata": {
        "execution": {
          "iopub.execute_input": "2022-04-13T14:02:41.953349Z",
          "iopub.status.busy": "2022-04-13T14:02:41.953013Z",
          "iopub.status.idle": "2022-04-13T14:02:41.959102Z",
          "shell.execute_reply": "2022-04-13T14:02:41.958086Z",
          "shell.execute_reply.started": "2022-04-13T14:02:41.95331Z"
        },
        "papermill": {
          "duration": null,
          "end_time": null,
          "exception": null,
          "start_time": null,
          "status": "pending"
        },
        "tags": [],
        "id": "77976ab6"
      },
      "outputs": [],
      "source": [
        "features = [x for x in merged_data.columns if x not in ['user_id', 'higher_education']] # список используемых признаков"
      ]
    },
    {
      "cell_type": "markdown",
      "source": [
        "# 5. Обучение моделей"
      ],
      "metadata": {
        "id": "nZr_eRFAy7uS"
      },
      "id": "nZr_eRFAy7uS"
    },
    {
      "cell_type": "markdown",
      "source": [
        "## Baseline model"
      ],
      "metadata": {
        "id": "s4BhET13xKgh"
      },
      "id": "s4BhET13xKgh"
    },
    {
      "cell_type": "markdown",
      "source": [
        "Для получения первой модели используем бустинговый классификатор из библиотеки LightGBM."
      ],
      "metadata": {
        "id": "xS7GVoiExadK"
      },
      "id": "xS7GVoiExadK"
    },
    {
      "cell_type": "code",
      "source": [
        "targets = merged_data.higher_education.values\n",
        "\n",
        "cv = KFold(n_splits=5, random_state=100, shuffle=True)\n",
        "\n",
        "oof = np.zeros(len(merged_data))\n",
        "train_preds = np.zeros(len(merged_data))\n",
        "\n",
        "models_lgb = []\n",
        "\n",
        "tree_params = {\n",
        "    'objective': 'binary',\n",
        "    'metric': 'auc',\n",
        "    'learning_rate': 0.01,\n",
        "    'max_depth': 3,\n",
        "    'reg_lambda': 1,\n",
        "    'num_leaves': 64,\n",
        "    'n_jobs': 5,\n",
        "    'n_estimators': 1500\n",
        "} # 0,781372\n",
        "\n",
        "for fold_, (train_idx, val_idx) in enumerate(cv.split(merged_data, targets), 1):\n",
        "    print(f'Training with fold {fold_} started.')\n",
        "    lgb_model = lgb.LGBMClassifier(**tree_params)\n",
        "    train, val = merged_data.iloc[train_idx], merged_data.iloc[val_idx]\n",
        "    \n",
        "    lgb_model.fit(train[features], train.higher_education.values, eval_set=[(val[features], val.higher_education.values)],\n",
        "              early_stopping_rounds=50, verbose=200)\n",
        "\n",
        "    \n",
        "    oof[val_idx] = lgb_model.predict_proba(val[features])[:, 1]\n",
        "    train_preds[train_idx] += lgb_model.predict_proba(train[features])[:, 1] / (cv.n_splits-1)\n",
        "    models_lgb.append(lgb_model)\n",
        "    print(f'Training with fold {fold_} completed.')"
      ],
      "metadata": {
        "colab": {
          "base_uri": "https://localhost:8080/"
        },
        "id": "qwUghs1GxF2B",
        "outputId": "df8daad3-27aa-4d15-f6fe-f6e9a149f570"
      },
      "id": "qwUghs1GxF2B",
      "execution_count": 67,
      "outputs": [
        {
          "output_type": "stream",
          "name": "stdout",
          "text": [
            "Training with fold 1 started.\n",
            "Training until validation scores don't improve for 50 rounds\n",
            "[200]\tvalid_0's auc: 0.777926\n",
            "[400]\tvalid_0's auc: 0.788117\n",
            "[600]\tvalid_0's auc: 0.792553\n",
            "[800]\tvalid_0's auc: 0.793649\n",
            "Early stopping, best iteration is:\n",
            "[772]\tvalid_0's auc: 0.793818\n",
            "Training with fold 1 completed.\n",
            "Training with fold 2 started.\n",
            "Training until validation scores don't improve for 50 rounds\n",
            "[200]\tvalid_0's auc: 0.766648\n",
            "[400]\tvalid_0's auc: 0.775737\n",
            "[600]\tvalid_0's auc: 0.778929\n",
            "[800]\tvalid_0's auc: 0.780744\n",
            "[1000]\tvalid_0's auc: 0.781922\n",
            "[1200]\tvalid_0's auc: 0.783133\n",
            "[1400]\tvalid_0's auc: 0.783519\n",
            "Early stopping, best iteration is:\n",
            "[1375]\tvalid_0's auc: 0.783723\n",
            "Training with fold 2 completed.\n",
            "Training with fold 3 started.\n",
            "Training until validation scores don't improve for 50 rounds\n",
            "[200]\tvalid_0's auc: 0.773502\n",
            "[400]\tvalid_0's auc: 0.787827\n",
            "[600]\tvalid_0's auc: 0.793768\n",
            "[800]\tvalid_0's auc: 0.7966\n",
            "[1000]\tvalid_0's auc: 0.79866\n",
            "[1200]\tvalid_0's auc: 0.799073\n",
            "Early stopping, best iteration is:\n",
            "[1173]\tvalid_0's auc: 0.799271\n",
            "Training with fold 3 completed.\n",
            "Training with fold 4 started.\n",
            "Training until validation scores don't improve for 50 rounds\n",
            "[200]\tvalid_0's auc: 0.765675\n",
            "[400]\tvalid_0's auc: 0.776603\n",
            "[600]\tvalid_0's auc: 0.781574\n",
            "[800]\tvalid_0's auc: 0.784491\n",
            "[1000]\tvalid_0's auc: 0.786608\n",
            "Early stopping, best iteration is:\n",
            "[1057]\tvalid_0's auc: 0.78708\n",
            "Training with fold 4 completed.\n",
            "Training with fold 5 started.\n",
            "Training until validation scores don't improve for 50 rounds\n",
            "[200]\tvalid_0's auc: 0.772979\n",
            "[400]\tvalid_0's auc: 0.783261\n",
            "[600]\tvalid_0's auc: 0.787105\n",
            "[800]\tvalid_0's auc: 0.789697\n",
            "[1000]\tvalid_0's auc: 0.790866\n",
            "Early stopping, best iteration is:\n",
            "[1041]\tvalid_0's auc: 0.790952\n",
            "Training with fold 5 completed.\n"
          ]
        }
      ]
    },
    {
      "cell_type": "markdown",
      "source": [
        "ROC-AUC скор модели для Train и CV выборок:"
      ],
      "metadata": {
        "id": "eixS5GfJyC2q"
      },
      "id": "eixS5GfJyC2q"
    },
    {
      "cell_type": "code",
      "source": [
        "print('Train roc-auc', roc_auc_score(targets, train_preds))\n",
        "print('CV roc-auc', roc_auc_score(targets, oof))"
      ],
      "metadata": {
        "colab": {
          "base_uri": "https://localhost:8080/"
        },
        "id": "Dc-Q88bJxsy5",
        "outputId": "49f662fd-1bc7-4809-ff2b-2ff1e7c12838"
      },
      "id": "Dc-Q88bJxsy5",
      "execution_count": 68,
      "outputs": [
        {
          "output_type": "stream",
          "name": "stdout",
          "text": [
            "Train roc-auc 0.9070999428844053\n",
            "CV roc-auc 0.7907806245200886\n"
          ]
        }
      ]
    },
    {
      "cell_type": "markdown",
      "source": [
        "Для интерпретации модели используем технику SHAP."
      ],
      "metadata": {
        "id": "Dk4KlsLSyNnJ"
      },
      "id": "Dk4KlsLSyNnJ"
    },
    {
      "cell_type": "code",
      "source": [
        "explainer = shap.TreeExplainer(lgb_model)\n",
        "shap_values = explainer.shap_values(val[features])\n",
        "shap.summary_plot(shap_values[1], val[features])"
      ],
      "metadata": {
        "colab": {
          "base_uri": "https://localhost:8080/",
          "height": 604
        },
        "id": "GAy5l1B6xtPw",
        "outputId": "b3a7fdb6-3df1-4664-c6b3-3826fd3d212b"
      },
      "id": "GAy5l1B6xtPw",
      "execution_count": 69,
      "outputs": [
        {
          "output_type": "stream",
          "name": "stderr",
          "text": [
            "LightGBM binary classifier with TreeExplainer shap values output has changed to a list of ndarray\n"
          ]
        },
        {
          "output_type": "display_data",
          "data": {
            "text/plain": [
              "<Figure size 576x684 with 2 Axes>"
            ],
            "image/png": "[encoded data removed]"
          },
          "metadata": {
            "needs_background": "light"
          }
        }
      ]
    },
    {
      "cell_type": "markdown",
      "id": "cf6ea74a",
      "metadata": {
        "papermill": {
          "duration": null,
          "end_time": null,
          "exception": null,
          "start_time": null,
          "status": "pending"
        },
        "tags": [],
        "id": "cf6ea74a"
      },
      "source": [
        "Чем меньше значение переменной (голубой цвет) - тем большие траты, чем больше значение (красный цвет) - тем меньшие траты.\n",
        "Некоторые выводы:\n",
        "* Уменьшение средних трат на категорию \"Магазины косметики\" (mean_mcc_code_5977) ведет к уменьшению вероятности, что клиент имеет высшее образование.\n",
        "* Меньшие средние траты на категорию \"Отели и мотели - нигде более не классифицированные\" (mean_mcc_code_7011) чаще встречаются у клиентов без высшего образования, увеличение трат на отели постенно ведет к значительному увеличению вероятности ВО.\n",
        "* Уменьшение средних трат на категорию \"Магазины косметики\" (mean_mcc_code_5977) ведет к уменьшению вероятности, что клиент имеет высшее образование.\n",
        "* Имеют больше затраты на категорию \"Финансовые учреждения – торговля и услуги\" (mean_mcc_code_6012) преимущественно клиенты с ВО. Значения затрат, близкие к 0, значительно понижают шансы на ВО.\n",
        "* Уменьшение средних трат на категорию \"Фастфуд\" (mean_mcc_code_5814) ведет к увеличению вероятности ВО.\n",
        "* У клиентов без ВО в подавляющем большинстве низкие затраты на категорию \"Товары для дома\" (mean_mcc_code_5200).\n",
        "* Увеличение средних трат на категорию \"Автозапчасти и аксессуары\" (mean_mcc_code_5533) ведет к увеличению вероятности ВО.\n",
        "\n",
        "Есть основания полагать, что траты именно на эти решающие категории с некоторой надежностью свидетельствуют о возрасте клиента, что позволяет давать большую вероятность наличия ВО. Эту информацию также можно использовать для дальнейшего feature engineering."
      ]
    },
    {
      "cell_type": "markdown",
      "source": [
        "## Blending моделей"
      ],
      "metadata": {
        "id": "-GefaOQny4Jp"
      },
      "id": "-GefaOQny4Jp"
    },
    {
      "cell_type": "markdown",
      "source": [
        "Для повышения точности предсказания я буду использовать библиотеку Сбер LightAutoML, позволяющую автоматически тюнить и совмещать результаты работы моделей."
      ],
      "metadata": {
        "id": "IRiFiWiTzImZ"
      },
      "id": "IRiFiWiTzImZ"
    },
    {
      "cell_type": "markdown",
      "source": [
        "Задаем настройки и параметры модели:"
      ],
      "metadata": {
        "id": "GmGnJh5tz5yB"
      },
      "id": "GmGnJh5tz5yB"
    },
    {
      "cell_type": "code",
      "execution_count": 70,
      "id": "02b24235",
      "metadata": {
        "execution": {
          "iopub.execute_input": "2022-04-13T08:54:00.15875Z",
          "iopub.status.busy": "2022-04-13T08:54:00.157749Z",
          "iopub.status.idle": "2022-04-13T08:54:00.175312Z",
          "shell.execute_reply": "2022-04-13T08:54:00.174223Z",
          "shell.execute_reply.started": "2022-04-13T08:54:00.158704Z"
        },
        "papermill": {
          "duration": null,
          "end_time": null,
          "exception": null,
          "start_time": null,
          "status": "pending"
        },
        "tags": [],
        "id": "02b24235"
      },
      "outputs": [],
      "source": [
        "N_THREADS = 4\n",
        "N_FOLDS = 5\n",
        "RANDOM_STATE = 42\n",
        "TEST_SIZE = 0.2\n",
        "TIMEOUT = 600\n",
        "TARGET_NAME = 'higher_education'\n",
        "\n",
        "np.random.seed(RANDOM_STATE)\n",
        "torch.set_num_threads(N_THREADS)\n",
        "\n",
        "task = Task('binary')\n",
        "\n",
        "roles = {\n",
        "    'target': TARGET_NAME,\n",
        "    'drop': 'user_id',\n",
        "}"
      ]
    },
    {
      "cell_type": "markdown",
      "source": [
        "Инициируем экземпляр модели:"
      ],
      "metadata": {
        "id": "kKXBxOJ3z_PA"
      },
      "id": "kKXBxOJ3z_PA"
    },
    {
      "cell_type": "code",
      "execution_count": 71,
      "id": "7d145bc4",
      "metadata": {
        "execution": {
          "iopub.execute_input": "2022-04-13T08:54:01.959134Z",
          "iopub.status.busy": "2022-04-13T08:54:01.957897Z",
          "iopub.status.idle": "2022-04-13T08:54:01.999712Z",
          "shell.execute_reply": "2022-04-13T08:54:01.998602Z",
          "shell.execute_reply.started": "2022-04-13T08:54:01.959071Z"
        },
        "papermill": {
          "duration": null,
          "end_time": null,
          "exception": null,
          "start_time": null,
          "status": "pending"
        },
        "tags": [],
        "id": "7d145bc4"
      },
      "outputs": [],
      "source": [
        "automl = TabularUtilizedAutoML(\n",
        "    task = task, \n",
        "    timeout = TIMEOUT,\n",
        "    cpu_limit = N_THREADS,\n",
        "    reader_params = {'n_jobs': N_THREADS, 'cv': N_FOLDS, 'random_state': RANDOM_STATE},\n",
        "    # general_params = {'use_algos': [['lgb', 'lgb_tuned']]},\n",
        "    # tuning_params = {'max_tuning_iter': 20, 'max_tuning_time': 30}\n",
        ")"
      ]
    },
    {
      "cell_type": "markdown",
      "source": [
        "Обучаем модели:"
      ],
      "metadata": {
        "id": "l3v9PbxD0QuZ"
      },
      "id": "l3v9PbxD0QuZ"
    },
    {
      "cell_type": "code",
      "execution_count": 72,
      "id": "d33c8cf2",
      "metadata": {
        "execution": {
          "iopub.execute_input": "2022-04-13T08:54:05.216218Z",
          "iopub.status.busy": "2022-04-13T08:54:05.215394Z",
          "iopub.status.idle": "2022-04-13T09:00:58.240693Z",
          "shell.execute_reply": "2022-04-13T09:00:58.239652Z",
          "shell.execute_reply.started": "2022-04-13T08:54:05.216173Z"
        },
        "papermill": {
          "duration": null,
          "end_time": null,
          "exception": null,
          "start_time": null,
          "status": "pending"
        },
        "tags": [],
        "colab": {
          "base_uri": "https://localhost:8080/"
        },
        "id": "d33c8cf2",
        "outputId": "6ab99b04-b822-4885-d2a8-dc94ebeace82"
      },
      "outputs": [
        {
          "output_type": "stream",
          "name": "stdout",
          "text": [
            "[11:35:09] Start automl \u001b[1mutilizator\u001b[0m with listed constraints:\n",
            "[11:35:09] - time: 600.00 seconds\n",
            "[11:35:09] - CPU: 4 cores\n",
            "[11:35:09] - memory: 16 GB\n",
            "\n",
            "[11:35:09] \u001b[1mIf one preset completes earlier, next preset configuration will be started\u001b[0m\n",
            "\n",
            "[11:35:09] ==================================================\n",
            "[11:35:09] Start 0 automl preset configuration:\n",
            "[11:35:09] \u001b[1mconf_0_sel_type_0.yml\u001b[0m, random state: {'reader_params': {'random_state': 42}, 'general_params': {'return_all_predictions': False}}\n",
            "[11:35:09] Stdout logging level is INFO.\n",
            "[11:35:10] Task: binary\n",
            "\n",
            "[11:35:10] Start automl preset with listed constraints:\n",
            "[11:35:10] - time: 600.00 seconds\n",
            "[11:35:10] - CPU: 4 cores\n",
            "[11:35:10] - memory: 16 GB\n",
            "\n",
            "[11:35:10] \u001b[1mTrain data shape: (8509, 967)\u001b[0m\n",
            "\n",
            "[11:35:29] Layer \u001b[1m1\u001b[0m train process start. Time left 581.01 secs\n",
            "[11:35:31] Start fitting \u001b[1mLvl_0_Pipe_0_Mod_0_LinearL2\u001b[0m ...\n",
            "[11:35:46] Fitting \u001b[1mLvl_0_Pipe_0_Mod_0_LinearL2\u001b[0m finished. score = \u001b[1m0.7884296033350305\u001b[0m\n",
            "[11:35:46] \u001b[1mLvl_0_Pipe_0_Mod_0_LinearL2\u001b[0m fitting and predicting completed\n",
            "[11:35:46] Time left 563.43 secs\n",
            "\n",
            "[11:35:48] Start fitting \u001b[1mLvl_0_Pipe_1_Mod_0_LightGBM\u001b[0m ...\n",
            "[11:37:22] Time limit exceeded after calculating fold 0\n",
            "\n",
            "[11:37:22] Fitting \u001b[1mLvl_0_Pipe_1_Mod_0_LightGBM\u001b[0m finished. score = \u001b[1m0.8014299530256977\u001b[0m\n",
            "[11:37:22] \u001b[1mLvl_0_Pipe_1_Mod_0_LightGBM\u001b[0m fitting and predicting completed\n",
            "[11:37:22] Start fitting \u001b[1mLvl_0_Pipe_1_Mod_2_CatBoost\u001b[0m ...\n",
            "[11:38:34] Fitting \u001b[1mLvl_0_Pipe_1_Mod_2_CatBoost\u001b[0m finished. score = \u001b[1m0.794983891023058\u001b[0m\n",
            "[11:38:34] \u001b[1mLvl_0_Pipe_1_Mod_2_CatBoost\u001b[0m fitting and predicting completed\n",
            "[11:38:34] Start hyperparameters optimization for \u001b[1mLvl_0_Pipe_1_Mod_3_Tuned_CatBoost\u001b[0m ... Time budget is 60.53 secs\n",
            "[11:38:34] Copying TaskTimer may affect the parent PipelineTimer, so copy will create new unlimited TaskTimer\n",
            "[11:39:50] Hyperparameters optimization for \u001b[1mLvl_0_Pipe_1_Mod_3_Tuned_CatBoost\u001b[0m completed\n",
            "[11:39:50] Start fitting \u001b[1mLvl_0_Pipe_1_Mod_3_Tuned_CatBoost\u001b[0m ...\n",
            "[11:41:16] Fitting \u001b[1mLvl_0_Pipe_1_Mod_3_Tuned_CatBoost\u001b[0m finished. score = \u001b[1m0.7941741540107002\u001b[0m\n",
            "[11:41:16] \u001b[1mLvl_0_Pipe_1_Mod_3_Tuned_CatBoost\u001b[0m fitting and predicting completed\n",
            "[11:41:16] Time left 233.84 secs\n",
            "\n",
            "[11:41:16] Time limit exceeded in one of the tasks. AutoML will blend level 1 models.\n",
            "\n",
            "[11:41:16] \u001b[1mLayer 1 training completed.\u001b[0m\n",
            "\n",
            "[11:41:16] Blending: optimization starts with equal weights and score \u001b[1m0.7995652768723064\u001b[0m\n",
            "[11:41:16] Blending: iteration \u001b[1m0\u001b[0m: score = \u001b[1m0.799853206420241\u001b[0m, weights = \u001b[1m[0.35918775 0.1100324  0.30400765 0.22677217]\u001b[0m\n",
            "[11:41:16] Blending: iteration \u001b[1m1\u001b[0m: score = \u001b[1m0.7998594657582396\u001b[0m, weights = \u001b[1m[0.36559767 0.09082136 0.3113396  0.23224136]\u001b[0m\n",
            "[11:41:16] Blending: iteration \u001b[1m2\u001b[0m: score = \u001b[1m0.7998594657582396\u001b[0m, weights = \u001b[1m[0.36559767 0.09082136 0.3113396  0.23224136]\u001b[0m\n",
            "[11:41:16] Blending: no score update. Terminated\n",
            "\n",
            "[11:41:16] \u001b[1mAutoml preset training completed in 366.82 seconds\u001b[0m\n",
            "\n",
            "[11:41:16] Model description:\n",
            "Final prediction for new objects (level 0) = \n",
            "\t 0.36560 * (5 averaged models Lvl_0_Pipe_0_Mod_0_LinearL2) +\n",
            "\t 0.09082 * (1 averaged models Lvl_0_Pipe_1_Mod_0_LightGBM) +\n",
            "\t 0.31134 * (5 averaged models Lvl_0_Pipe_1_Mod_2_CatBoost) +\n",
            "\t 0.23224 * (5 averaged models Lvl_0_Pipe_1_Mod_3_Tuned_CatBoost) \n",
            "\n",
            "[11:41:16] ==================================================\n"
          ]
        }
      ],
      "source": [
        "oof_pred = automl.fit_predict(merged_data, roles=roles, verbose=1)"
      ]
    },
    {
      "cell_type": "markdown",
      "source": [
        "Получаем предсказание целевой переменной задачи Education."
      ],
      "metadata": {
        "id": "EWEoMUk50VoY"
      },
      "id": "EWEoMUk50VoY"
    },
    {
      "cell_type": "code",
      "execution_count": 75,
      "id": "53e164bc",
      "metadata": {
        "execution": {
          "iopub.execute_input": "2022-04-13T09:01:10.165988Z",
          "iopub.status.busy": "2022-04-13T09:01:10.165673Z",
          "iopub.status.idle": "2022-04-13T09:01:16.727477Z",
          "shell.execute_reply": "2022-04-13T09:01:16.726352Z",
          "shell.execute_reply.started": "2022-04-13T09:01:10.165958Z"
        },
        "papermill": {
          "duration": null,
          "end_time": null,
          "exception": null,
          "start_time": null,
          "status": "pending"
        },
        "tags": [],
        "colab": {
          "base_uri": "https://localhost:8080/"
        },
        "id": "53e164bc",
        "outputId": "63f22326-5ef4-4a08-8659-4f5bf30f2a22"
      },
      "outputs": [
        {
          "output_type": "execute_result",
          "data": {
            "text/plain": [
              "array([[0.7401953 ],\n",
              "       [0.81642723],\n",
              "       [0.9457256 ],\n",
              "       ...,\n",
              "       [0.7072598 ],\n",
              "       [0.5264425 ],\n",
              "       [0.77464867]], dtype=float32)"
            ]
          },
          "metadata": {},
          "execution_count": 75
        }
      ],
      "source": [
        "pred = automl.predict(merged_test[features])\n",
        "pred"
      ]
    },
    {
      "cell_type": "code",
      "execution_count": 76,
      "id": "97f03f02",
      "metadata": {
        "execution": {
          "iopub.execute_input": "2022-04-13T09:01:19.286125Z",
          "iopub.status.busy": "2022-04-13T09:01:19.285825Z",
          "iopub.status.idle": "2022-04-13T09:01:19.322971Z",
          "shell.execute_reply": "2022-04-13T09:01:19.322048Z",
          "shell.execute_reply.started": "2022-04-13T09:01:19.286094Z"
        },
        "papermill": {
          "duration": null,
          "end_time": null,
          "exception": null,
          "start_time": null,
          "status": "pending"
        },
        "tags": [],
        "colab": {
          "base_uri": "https://localhost:8080/",
          "height": 206
        },
        "id": "97f03f02",
        "outputId": "8e312bf9-9aa7-4c0e-d919-9e9c0ce7b70d"
      },
      "outputs": [
        {
          "output_type": "execute_result",
          "data": {
            "text/plain": [
              "                               bank  higher_education_proba\n",
              "0  85ef628894e34ad6869778a9a5d15ba5                0.740195\n",
              "1  5ec7a78c6efd4d6291e371a6f30ed5c0                0.816427\n",
              "2  d0f5d1884ad74e3e9aae7e49f2e1b77b                0.945726\n",
              "3  c3c0f24dda94413ab98036f6d9018d3d                0.994191\n",
              "4  6a137054df2a42218a518479317e5b1e                0.652679"
            ],
            "text/html": [
              "\n",
              "  <div id=\"df-2eb8c679-a7a0-414c-9bdc-f9b5ee7b1443\">\n",
              "    <div class=\"colab-df-container\">\n",
              "      <div>\n",
              "<style scoped>\n",
              "    .dataframe tbody tr th:only-of-type {\n",
              "        vertical-align: middle;\n",
              "    }\n",
              "\n",
              "    .dataframe tbody tr th {\n",
              "        vertical-align: top;\n",
              "    }\n",
              "\n",
              "    .dataframe thead th {\n",
              "        text-align: right;\n",
              "    }\n",
              "</style>\n",
              "<table border=\"1\" class=\"dataframe\">\n",
              "  <thead>\n",
              "    <tr style=\"text-align: right;\">\n",
              "      <th></th>\n",
              "      <th>bank</th>\n",
              "      <th>higher_education_proba</th>\n",
              "    </tr>\n",
              "  </thead>\n",
              "  <tbody>\n",
              "    <tr>\n",
              "      <th>0</th>\n",
              "      <td>85ef628894e34ad6869778a9a5d15ba5</td>\n",
              "      <td>0.740195</td>\n",
              "    </tr>\n",
              "    <tr>\n",
              "      <th>1</th>\n",
              "      <td>5ec7a78c6efd4d6291e371a6f30ed5c0</td>\n",
              "      <td>0.816427</td>\n",
              "    </tr>\n",
              "    <tr>\n",
              "      <th>2</th>\n",
              "      <td>d0f5d1884ad74e3e9aae7e49f2e1b77b</td>\n",
              "      <td>0.945726</td>\n",
              "    </tr>\n",
              "    <tr>\n",
              "      <th>3</th>\n",
              "      <td>c3c0f24dda94413ab98036f6d9018d3d</td>\n",
              "      <td>0.994191</td>\n",
              "    </tr>\n",
              "    <tr>\n",
              "      <th>4</th>\n",
              "      <td>6a137054df2a42218a518479317e5b1e</td>\n",
              "      <td>0.652679</td>\n",
              "    </tr>\n",
              "  </tbody>\n",
              "</table>\n",
              "</div>\n",
              "      <button class=\"colab-df-convert\" onclick=\"convertToInteractive('df-2eb8c679-a7a0-414c-9bdc-f9b5ee7b1443')\"\n",
              "              title=\"Convert this dataframe to an interactive table.\"\n",
              "              style=\"display:none;\">\n",
              "        \n",
              "  <svg xmlns=\"http://www.w3.org/2000/svg\" height=\"24px\"viewBox=\"0 0 24 24\"\n",
              "       width=\"24px\">\n",
              "    <path d=\"M0 0h24v24H0V0z\" fill=\"none\"/>\n",
              "    <path d=\"M18.56 5.44l.94 2.06.94-2.06 2.06-.94-2.06-.94-.94-2.06-.94 2.06-2.06.94zm-11 1L8.5 8.5l.94-2.06 2.06-.94-2.06-.94L8.5 2.5l-.94 2.06-2.06.94zm10 10l.94 2.06.94-2.06 2.06-.94-2.06-.94-.94-2.06-.94 2.06-2.06.94z\"/><path d=\"M17.41 7.96l-1.37-1.37c-.4-.4-.92-.59-1.43-.59-.52 0-1.04.2-1.43.59L10.3 9.45l-7.72 7.72c-.78.78-.78 2.05 0 2.83L4 21.41c.39.39.9.59 1.41.59.51 0 1.02-.2 1.41-.59l7.78-7.78 2.81-2.81c.8-.78.8-2.07 0-2.86zM5.41 20L4 18.59l7.72-7.72 1.47 1.35L5.41 20z\"/>\n",
              "  </svg>\n",
              "      </button>\n",
              "      \n",
              "  <style>\n",
              "    .colab-df-container {\n",
              "      display:flex;\n",
              "      flex-wrap:wrap;\n",
              "      gap: 12px;\n",
              "    }\n",
              "\n",
              "    .colab-df-convert {\n",
              "      background-color: #E8F0FE;\n",
              "      border: none;\n",
              "      border-radius: 50%;\n",
              "      cursor: pointer;\n",
              "      display: none;\n",
              "      fill: #1967D2;\n",
              "      height: 32px;\n",
              "      padding: 0 0 0 0;\n",
              "      width: 32px;\n",
              "    }\n",
              "\n",
              "    .colab-df-convert:hover {\n",
              "      background-color: #E2EBFA;\n",
              "      box-shadow: 0px 1px 2px rgba(60, 64, 67, 0.3), 0px 1px 3px 1px rgba(60, 64, 67, 0.15);\n",
              "      fill: #174EA6;\n",
              "    }\n",
              "\n",
              "    [theme=dark] .colab-df-convert {\n",
              "      background-color: #3B4455;\n",
              "      fill: #D2E3FC;\n",
              "    }\n",
              "\n",
              "    [theme=dark] .colab-df-convert:hover {\n",
              "      background-color: #434B5C;\n",
              "      box-shadow: 0px 1px 3px 1px rgba(0, 0, 0, 0.15);\n",
              "      filter: drop-shadow(0px 1px 2px rgba(0, 0, 0, 0.3));\n",
              "      fill: #FFFFFF;\n",
              "    }\n",
              "  </style>\n",
              "\n",
              "      <script>\n",
              "        const buttonEl =\n",
              "          document.querySelector('#df-2eb8c679-a7a0-414c-9bdc-f9b5ee7b1443 button.colab-df-convert');\n",
              "        buttonEl.style.display =\n",
              "          google.colab.kernel.accessAllowed ? 'block' : 'none';\n",
              "\n",
              "        async function convertToInteractive(key) {\n",
              "          const element = document.querySelector('#df-2eb8c679-a7a0-414c-9bdc-f9b5ee7b1443');\n",
              "          const dataTable =\n",
              "            await google.colab.kernel.invokeFunction('convertToInteractive',\n",
              "                                                     [key], {});\n",
              "          if (!dataTable) return;\n",
              "\n",
              "          const docLinkHtml = 'Like what you see? Visit the ' +\n",
              "            '<a target=\"_blank\" href=https://colab.research.google.com/notebooks/data_table.ipynb>data table notebook</a>'\n",
              "            + ' to learn more about interactive tables.';\n",
              "          element.innerHTML = '';\n",
              "          dataTable['output_type'] = 'display_data';\n",
              "          await google.colab.output.renderOutput(dataTable, element);\n",
              "          const docLink = document.createElement('div');\n",
              "          docLink.innerHTML = docLinkHtml;\n",
              "          element.appendChild(docLink);\n",
              "        }\n",
              "      </script>\n",
              "    </div>\n",
              "  </div>\n",
              "  "
            ]
          },
          "metadata": {},
          "execution_count": 76
        }
      ],
      "source": [
        "test_sub = test.rename(columns={'user_id': 'bank'})\n",
        "test_sub[\"higher_education_proba\"] = pred.data[:, 0]\n",
        "test_sub.to_csv(\"submission.csv\", index=False)\n",
        "test_sub.head()"
      ]
    },
    {
      "cell_type": "markdown",
      "source": [
        "Результат на данный момент: ROC-AUC 0,799014 (4/54 на public LB).\n",
        "\n",
        "To do: \n",
        "\n",
        "\n",
        "*   генерация новых признаков и отбор существующих;\n",
        "*   нейросетевой подход с LSTM с последовательностями транзакций и получением эмбеддингов клиентов.\n",
        "\n"
      ],
      "metadata": {
        "id": "knq81MQ_0cE4"
      },
      "id": "knq81MQ_0cE4"
    }
  ],
  "metadata": {
    "kernelspec": {
      "display_name": "Python 3",
      "language": "python",
      "name": "python3"
    },
    "language_info": {
      "codemirror_mode": {
        "name": "ipython",
        "version": 3
      },
      "file_extension": ".py",
      "mimetype": "text/x-python",
      "name": "python",
      "nbconvert_exporter": "python",
      "pygments_lexer": "ipython3",
      "version": "3.7.12"
    },
    "papermill": {
      "default_parameters": {},
      "duration": 143.637113,
      "end_time": "2022-04-14T06:34:25.671988",
      "environment_variables": {},
      "exception": true,
      "input_path": "__notebook__.ipynb",
      "output_path": "__notebook__.ipynb",
      "parameters": {},
      "start_time": "2022-04-14T06:32:02.034875",
      "version": "2.3.3"
    },
    "colab": {
      "name": "data-fusion-2022.ipynb",
      "provenance": [],
      "include_colab_link": true
    }
  },
  "nbformat": 4,
  "nbformat_minor": 5
}